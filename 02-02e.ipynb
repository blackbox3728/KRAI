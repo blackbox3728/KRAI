{
 "cells": [
  {
   "cell_type": "markdown",
   "metadata": {
    "id": "NCYsbCuZ5ZcD"
   },
   "source": [
    "**PyTorch tensor**\n",
    "\n",
    "A tensor is a data structure or data container we use in PyTorch for carrying arrays of numbers.\n",
    "\n",
    "**a. Creating a tensor**"
   ]
  },
  {
   "cell_type": "code",
   "execution_count": null,
   "metadata": {
    "colab": {
     "base_uri": "https://localhost:8080/"
    },
    "executionInfo": {
     "elapsed": 4967,
     "status": "ok",
     "timestamp": 1643769618274,
     "user": {
      "displayName": "Zhongyu Pan",
      "photoUrl": "https://lh3.googleusercontent.com/a-/AOh14GgmO8eVgFGOq4F8rXKQmTQzAq_EsO4w3y7XEU5F7w=s64",
      "userId": "00060245009473894752"
     },
     "user_tz": 480
    },
    "id": "pQ2jL-d9JK3T",
    "outputId": "06d0b50f-4a55-4f70-cb90-8c9e55e5a9dd"
   },
   "outputs": [
    {
     "name": "stdout",
     "output_type": "stream",
     "text": [
      "Requirement already satisfied: torch in /usr/local/lib/python3.7/dist-packages (1.10.0+cu111)\n",
      "Requirement already satisfied: typing-extensions in /usr/local/lib/python3.7/dist-packages (from torch) (3.10.0.2)\n"
     ]
    }
   ],
   "source": [
    "pip install torch"
   ]
  },
  {
   "cell_type": "code",
   "execution_count": null,
   "metadata": {
    "id": "CuV5OrPJ8aTG"
   },
   "outputs": [],
   "source": [
    "import torch\n",
    "import numpy as np"
   ]
  },
  {
   "cell_type": "code",
   "execution_count": null,
   "metadata": {
    "colab": {
     "base_uri": "https://localhost:8080/"
    },
    "executionInfo": {
     "elapsed": 132,
     "status": "ok",
     "timestamp": 1643770217389,
     "user": {
      "displayName": "Zhongyu Pan",
      "photoUrl": "https://lh3.googleusercontent.com/a-/AOh14GgmO8eVgFGOq4F8rXKQmTQzAq_EsO4w3y7XEU5F7w=s64",
      "userId": "00060245009473894752"
     },
     "user_tz": 480
    },
    "id": "W2a2Pv03VC6T",
    "outputId": "e6cd8660-7210-43c7-9312-9cedc05a9c6d"
   },
   "outputs": [
    {
     "name": "stdout",
     "output_type": "stream",
     "text": [
      "tensor([[1, 2],\n",
      "        [7, 4],\n",
      "        [5, 6]])\n",
      "The data structure type of tensor0:  <class 'torch.Tensor'>\n",
      "The data type of tensor0:  torch.int64\n",
      "The shape of tensor0:  torch.Size([3, 2])\n"
     ]
    }
   ],
   "source": [
    "# Construct a tensor from an array\n",
    "array = [[1, 2], [7, 4], [5, 6]]\n",
    "tensor0 = torch.tensor(array)\n",
    "print(tensor0)\n",
    "print(\"The data structure type of tensor0: \", type(tensor0))\n",
    "print(\"The data type of tensor0: \", tensor0.dtype)\n",
    "print(\"The shape of tensor0: \", tensor0.shape)"
   ]
  },
  {
   "cell_type": "code",
   "execution_count": null,
   "metadata": {
    "colab": {
     "base_uri": "https://localhost:8080/"
    },
    "executionInfo": {
     "elapsed": 144,
     "status": "ok",
     "timestamp": 1643770220436,
     "user": {
      "displayName": "Zhongyu Pan",
      "photoUrl": "https://lh3.googleusercontent.com/a-/AOh14GgmO8eVgFGOq4F8rXKQmTQzAq_EsO4w3y7XEU5F7w=s64",
      "userId": "00060245009473894752"
     },
     "user_tz": 480
    },
    "id": "RJbcImRI8ccN",
    "outputId": "8df45e07-0ecc-4e3e-ce01-32fdcf2b0838"
   },
   "outputs": [
    {
     "name": "stdout",
     "output_type": "stream",
     "text": [
      "tensor([[1, 2],\n",
      "        [7, 4],\n",
      "        [5, 6]])\n"
     ]
    }
   ],
   "source": [
    "# Construct a tensor from a numpy array\n",
    "np_array = np.array([[1, 2], [7, 4], [5, 6]])\n",
    "tensor1 = torch.tensor(np_array)\n",
    "print(tensor1)"
   ]
  },
  {
   "cell_type": "markdown",
   "metadata": {
    "id": "GC5RVjNcYmfK"
   },
   "source": [
    "**b. Common Methods: Slicing and Concatenation**\n",
    "\n",
    "*Slicing*"
   ]
  },
  {
   "cell_type": "code",
   "execution_count": null,
   "metadata": {
    "id": "K_7yCwVXYmfL"
   },
   "outputs": [],
   "source": [
    "tensorA = torch.tensor([[1, 1, 1], [2, 2, 2]])\n",
    "tensorB = torch.tensor([[3, 3, 3], [4, 4, 4]])"
   ]
  },
  {
   "cell_type": "code",
   "execution_count": null,
   "metadata": {
    "colab": {
     "base_uri": "https://localhost:8080/"
    },
    "executionInfo": {
     "elapsed": 2,
     "status": "ok",
     "timestamp": 1643770782702,
     "user": {
      "displayName": "Zhongyu Pan",
      "photoUrl": "https://lh3.googleusercontent.com/a-/AOh14GgmO8eVgFGOq4F8rXKQmTQzAq_EsO4w3y7XEU5F7w=s64",
      "userId": "00060245009473894752"
     },
     "user_tz": 480
    },
    "id": "xWRshVHJYmfL",
    "outputId": "738f4cdc-c248-4793-e166-65e10ed95e93"
   },
   "outputs": [
    {
     "name": "stdout",
     "output_type": "stream",
     "text": [
      "Slicing the first two rows of tensorA (index one inclusive index two exclusive): \n",
      "tensor([[1, 1, 1],\n",
      "        [2, 2, 2]])\n",
      "Slicing the first two columns of tensorA (take all rows, then slice columns): \n",
      "tensor([[1, 1],\n",
      "        [2, 2]])\n"
     ]
    }
   ],
   "source": [
    "# Slicing is all the same as numpy arrays\n",
    "print('Slicing the first two rows of tensorA (index one inclusive index two exclusive): ')\n",
    "print(tensorA[:2])\n",
    "print('Slicing the first two columns of tensorA (take all rows, then slice columns): ')\n",
    "print(tensorA[:, :2])"
   ]
  },
  {
   "cell_type": "markdown",
   "metadata": {
    "id": "SjmvEaOEYmfL"
   },
   "source": [
    "*Concatenation*"
   ]
  },
  {
   "cell_type": "code",
   "execution_count": null,
   "metadata": {
    "colab": {
     "base_uri": "https://localhost:8080/"
    },
    "executionInfo": {
     "elapsed": 304,
     "status": "ok",
     "timestamp": 1643770812129,
     "user": {
      "displayName": "Zhongyu Pan",
      "photoUrl": "https://lh3.googleusercontent.com/a-/AOh14GgmO8eVgFGOq4F8rXKQmTQzAq_EsO4w3y7XEU5F7w=s64",
      "userId": "00060245009473894752"
     },
     "user_tz": 480
    },
    "id": "YKmDowsEYmfL",
    "outputId": "b70b4009-d1dc-4217-8af2-27d54abad572"
   },
   "outputs": [
    {
     "name": "stdout",
     "output_type": "stream",
     "text": [
      "Vertically concatenate tensorA and tensorB: (default: dim=0)\n",
      "tensor([[1, 1, 1],\n",
      "        [2, 2, 2],\n",
      "        [3, 3, 3],\n",
      "        [4, 4, 4]])\n"
     ]
    }
   ],
   "source": [
    "print('Vertically concatenate tensorA and tensorB: (default: dim=0)')\n",
    "concat_v = torch.cat([tensorA, tensorB]) # wrap them in an array\n",
    "print(concat_v)"
   ]
  },
  {
   "cell_type": "code",
   "execution_count": null,
   "metadata": {
    "colab": {
     "base_uri": "https://localhost:8080/"
    },
    "executionInfo": {
     "elapsed": 364,
     "status": "ok",
     "timestamp": 1643770844186,
     "user": {
      "displayName": "Zhongyu Pan",
      "photoUrl": "https://lh3.googleusercontent.com/a-/AOh14GgmO8eVgFGOq4F8rXKQmTQzAq_EsO4w3y7XEU5F7w=s64",
      "userId": "00060245009473894752"
     },
     "user_tz": 480
    },
    "id": "x96PHGBbYmfM",
    "outputId": "562ff534-2a93-412f-aba9-af1852c0c697"
   },
   "outputs": [
    {
     "name": "stdout",
     "output_type": "stream",
     "text": [
      "Horizontally concatenate tensorA and tensorB: (dim=1)\n",
      "tensor([[1, 1, 1, 3, 3, 3],\n",
      "        [2, 2, 2, 4, 4, 4]])\n"
     ]
    }
   ],
   "source": [
    "print('Horizontally concatenate tensorA and tensorB: (dim=1)')\n",
    "concat_h = torch.cat([tensorA, tensorB], dim=1)\n",
    "print(concat_h)"
   ]
  }
 ],
 "metadata": {
  "colab": {
   "authorship_tag": "ABX9TyMJLX/FIi52b2egOkcRRpfE",
   "collapsed_sections": [],
   "name": "02-02b.ipynb",
   "provenance": []
  },
  "kernelspec": {
   "display_name": "Python 3",
   "name": "python3"
  },
  "language_info": {
   "name": "python"
  }
 },
 "nbformat": 4,
 "nbformat_minor": 0
}
