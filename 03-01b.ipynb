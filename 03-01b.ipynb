{
 "cells": [
  {
   "cell_type": "code",
   "execution_count": null,
   "metadata": {
    "id": "jZsFelMfohu_"
   },
   "outputs": [],
   "source": [
    "import torch\n",
    "from torchtext.legacy import data, datasets\n",
    "import random"
   ]
  },
  {
   "cell_type": "code",
   "execution_count": null,
   "metadata": {
    "colab": {
     "base_uri": "https://localhost:8080/"
    },
    "id": "Htwa2BnOp7uy",
    "outputId": "846c2108-7f54-462d-a8a9-b8cb40e0bf78"
   },
   "outputs": [
    {
     "name": "stdout",
     "output_type": "stream",
     "text": [
      "cuda\n"
     ]
    }
   ],
   "source": [
    "seed = 966\n",
    "torch.manual_seed(seed)\n",
    "\n",
    "device = torch.device('cuda' if torch.cuda.is_available() else 'cpu')\n",
    "print(device)"
   ]
  },
  {
   "cell_type": "markdown",
   "metadata": {
    "id": "IpsI5mzbiw_N"
   },
   "source": [
    "**Fields**\n",
    "\n",
    "[Check documentation](https://pytorch.org/text/_modules/torchtext/data/field.html)"
   ]
  },
  {
   "cell_type": "code",
   "execution_count": null,
   "metadata": {
    "id": "mkJfNKJWp-_a"
   },
   "outputs": [],
   "source": [
    "# define fields\n"
   ]
  },
  {
   "cell_type": "markdown",
   "metadata": {
    "id": "1cA0GOYlXyn7"
   },
   "source": [
    "**Text REtrieval Conference (TREC) Question Classification Dataset**\n",
    "\n",
    "*Data Examples and Six Categories:*\n",
    "\n",
    "| Text | Label | Category |\n",
    "| --- | --- | --- |\n",
    "|CNN is the abbreviation for what ?|ABBR| ABBREVIATION |\n",
    "| What is the date of Boxing Day ? | NUM |NUMERIC|\n",
    "|Who discovered electricity ?| HUM |HUMAN|\n",
    "|What 's the colored part of the eye called ?|ENTY|ENTITY|\n",
    "|Why do horseshoes bring luck ?|DESC|DESCRIPTION|\n",
    "|What is California 's capital ?|LOC|LOCATION|"
   ]
  },
  {
   "cell_type": "code",
   "execution_count": null,
   "metadata": {
    "colab": {
     "base_uri": "https://localhost:8080/"
    },
    "id": "WegTcNYsp_vQ",
    "outputId": "92dd2c8f-ecb0-400e-d1bc-b74f07d58f08"
   },
   "outputs": [
    {
     "name": "stdout",
     "output_type": "stream",
     "text": [
      "downloading train_5500.label\n"
     ]
    },
    {
     "name": "stderr",
     "output_type": "stream",
     "text": [
      "100%|██████████| 336k/336k [00:00<00:00, 2.86MB/s]\n"
     ]
    },
    {
     "name": "stdout",
     "output_type": "stream",
     "text": [
      "downloading TREC_10.label\n"
     ]
    },
    {
     "name": "stderr",
     "output_type": "stream",
     "text": [
      "100%|██████████| 23.4k/23.4k [00:00<00:00, 896kB/s]\n"
     ]
    }
   ],
   "source": [
    "train, test = datasets.TREC.splits(TEXT, LABEL)\n",
    "train, val = train.split(random_state=random.seed(seed))"
   ]
  },
  {
   "cell_type": "code",
   "execution_count": null,
   "metadata": {
    "colab": {
     "base_uri": "https://localhost:8080/"
    },
    "id": "X7f7bzP1qCY5",
    "outputId": "c77d13aa-54d4-4ed4-a1aa-b9e30e8e03ea"
   },
   "outputs": [
    {
     "data": {
      "text/plain": [
       "{'label': 'NUM',\n",
       " 'text': ['how', 'fast', 'does', 'the', 'fastest', 'car', 'go', '?']}"
      ]
     },
     "execution_count": 5,
     "metadata": {},
     "output_type": "execute_result"
    }
   ],
   "source": [
    "vars(train[-1])"
   ]
  },
  {
   "cell_type": "code",
   "execution_count": null,
   "metadata": {
    "id": "-pbG4QBJqE4B"
   },
   "outputs": [],
   "source": [
    "# build vocab\n"
   ]
  },
  {
   "cell_type": "code",
   "execution_count": null,
   "metadata": {
    "colab": {
     "base_uri": "https://localhost:8080/"
    },
    "id": "MOJPaDk04Lsl",
    "outputId": "4f4d8cee-3faa-42a7-9942-00e2094d3d6b"
   },
   "outputs": [
    {
     "name": "stdout",
     "output_type": "stream",
     "text": [
      "defaultdict(None, {'ENTY': 0, 'HUM': 1, 'DESC': 2, 'NUM': 3, 'LOC': 4, 'ABBR': 5})\n"
     ]
    }
   ],
   "source": [
    "print(LABEL.vocab.stoi)"
   ]
  },
  {
   "cell_type": "code",
   "execution_count": null,
   "metadata": {
    "colab": {
     "base_uri": "https://localhost:8080/"
    },
    "id": "rC6vaKQjqJBp",
    "outputId": "117622a6-16a3-4f88-c601-91e7b79118de"
   },
   "outputs": [
    {
     "name": "stdout",
     "output_type": "stream",
     "text": [
      "Vocabulary size of TEXT: 2679\n",
      "Vocabulary size of LABEL: 6\n"
     ]
    }
   ],
   "source": [
    "print(\"Vocabulary size of TEXT:\",len(TEXT.vocab.stoi))\n",
    "print(\"Vocabulary size of LABEL:\",len(LABEL.vocab.stoi))"
   ]
  },
  {
   "cell_type": "code",
   "execution_count": null,
   "metadata": {
    "id": "hE20ZBrjqJkY"
   },
   "outputs": [],
   "source": [
    "train_iterator, valid_iterator, test_iterator = data.BucketIterator.splits(\n",
    "    (train, val, test),\n",
    "    batch_size = 64,\n",
    "    sort_key=lambda x: len(x.text), \n",
    "    device=device\n",
    ")"
   ]
  },
  {
   "cell_type": "code",
   "execution_count": null,
   "metadata": {
    "id": "srtp1aRnQrXW"
   },
   "outputs": [],
   "source": [
    ""
   ]
  }
 ],
 "metadata": {
  "accelerator": "GPU",
  "colab": {
   "collapsed_sections": [],
   "name": "03-01b.ipynb",
   "provenance": []
  },
  "kernelspec": {
   "display_name": "Python 3",
   "name": "python3"
  },
  "language_info": {
   "name": "python"
  }
 },
 "nbformat": 4,
 "nbformat_minor": 0
}
