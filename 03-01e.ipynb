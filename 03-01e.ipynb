{
 "cells": [
  {
   "cell_type": "code",
   "execution_count": null,
   "metadata": {
    "id": "jZsFelMfohu_"
   },
   "outputs": [],
   "source": [
    "import torch\n",
    "from torchtext.legacy import data, datasets\n",
    "import random"
   ]
  },
  {
   "cell_type": "code",
   "execution_count": null,
   "metadata": {
    "colab": {
     "base_uri": "https://localhost:8080/"
    },
    "id": "Htwa2BnOp7uy",
    "outputId": "54ab65ca-50cb-4b9c-81a1-4510c682a7a2"
   },
   "outputs": [
    {
     "name": "stdout",
     "output_type": "stream",
     "text": [
      "cuda\n"
     ]
    }
   ],
   "source": [
    "seed = 966\n",
    "torch.manual_seed(seed)\n",
    "\n",
    "device = torch.device('cuda' if torch.cuda.is_available() else 'cpu')\n",
    "print(device)"
   ]
  },
  {
   "cell_type": "markdown",
   "metadata": {
    "id": "IpsI5mzbiw_N"
   },
   "source": [
    "**Fields**\n",
    "\n",
    "[Check documentation](https://pytorch.org/text/_modules/torchtext/data/field.html)"
   ]
  },
  {
   "cell_type": "code",
   "execution_count": null,
   "metadata": {
    "id": "mkJfNKJWp-_a"
   },
   "outputs": [],
   "source": [
    "TEXT = data.Field(tokenize='spacy', lower=True)\n",
    "LABEL = data.LabelField()"
   ]
  },
  {
   "cell_type": "markdown",
   "metadata": {
    "id": "1cA0GOYlXyn7"
   },
   "source": [
    "**Text REtrieval Conference (TREC) Question Classification Dataset**\n",
    "\n",
    "*Data Examples and Six Categories:*\n",
    "\n",
    "| Text | Label | Category |\n",
    "| --- | --- | --- |\n",
    "|CNN is the abbreviation for what ?|ABBR| ABBREVIATION |\n",
    "| What is the date of Boxing Day ? | NUM |NUMERIC|\n",
    "|Who discovered electricity ?| HUM |HUMAN|\n",
    "|What 's the colored part of the eye called ?|ENTY|ENTITY|\n",
    "|Why do horseshoes bring luck ?|DESC|DESCRIPTION|\n",
    "|What is California 's capital ?|LOC|LOCATION|"
   ]
  },
  {
   "cell_type": "code",
   "execution_count": null,
   "metadata": {
    "colab": {
     "base_uri": "https://localhost:8080/"
    },
    "id": "WegTcNYsp_vQ",
    "outputId": "dcf14d61-e6d8-469b-de06-1789de67f4db"
   },
   "outputs": [
    {
     "name": "stdout",
     "output_type": "stream",
     "text": [
      "downloading train_5500.label\n"
     ]
    },
    {
     "name": "stderr",
     "output_type": "stream",
     "text": [
      "100%|██████████| 336k/336k [00:00<00:00, 2.94MB/s]\n"
     ]
    },
    {
     "name": "stdout",
     "output_type": "stream",
     "text": [
      "downloading TREC_10.label\n"
     ]
    },
    {
     "name": "stderr",
     "output_type": "stream",
     "text": [
      "100%|██████████| 23.4k/23.4k [00:00<00:00, 1.07MB/s]\n"
     ]
    }
   ],
   "source": [
    "train, test = datasets.TREC.splits(TEXT, LABEL)\n",
    "train, val = train.split(random_state = random.seed(seed))"
   ]
  },
  {
   "cell_type": "code",
   "execution_count": null,
   "metadata": {
    "colab": {
     "base_uri": "https://localhost:8080/"
    },
    "id": "X7f7bzP1qCY5",
    "outputId": "7b2a16fb-da34-4f05-eb54-f1d10642882b"
   },
   "outputs": [
    {
     "data": {
      "text/plain": [
       "{'label': 'NUM',\n",
       " 'text': ['how', 'fast', 'does', 'the', 'fastest', 'car', 'go', '?']}"
      ]
     },
     "execution_count": 5,
     "metadata": {},
     "output_type": "execute_result"
    }
   ],
   "source": [
    "vars(train[-1])"
   ]
  },
  {
   "cell_type": "code",
   "execution_count": null,
   "metadata": {
    "id": "-pbG4QBJqE4B"
   },
   "outputs": [],
   "source": [
    "TEXT.build_vocab(train, min_freq=2)\n",
    "LABEL.build_vocab(train)"
   ]
  },
  {
   "cell_type": "code",
   "execution_count": null,
   "metadata": {
    "colab": {
     "base_uri": "https://localhost:8080/"
    },
    "id": "MOJPaDk04Lsl",
    "outputId": "93138e5d-fb63-4b14-bcc0-e75ddc756a3f"
   },
   "outputs": [
    {
     "name": "stdout",
     "output_type": "stream",
     "text": [
      "defaultdict(None, {'ENTY': 0, 'HUM': 1, 'DESC': 2, 'NUM': 3, 'LOC': 4, 'ABBR': 5})\n"
     ]
    }
   ],
   "source": [
    "print(LABEL.vocab.stoi)"
   ]
  },
  {
   "cell_type": "code",
   "execution_count": null,
   "metadata": {
    "colab": {
     "base_uri": "https://localhost:8080/"
    },
    "id": "rC6vaKQjqJBp",
    "outputId": "eba0dd7b-cc29-48a6-93ad-fa37faf432f9"
   },
   "outputs": [
    {
     "name": "stdout",
     "output_type": "stream",
     "text": [
      "Vocabulary size of TEXT: 2679\n",
      "Vocabulary size of LABEL: 6\n"
     ]
    }
   ],
   "source": [
    "print(\"Vocabulary size of TEXT:\",len(TEXT.vocab.stoi))\n",
    "print(\"Vocabulary size of LABEL:\",len(LABEL.vocab.stoi))"
   ]
  },
  {
   "cell_type": "code",
   "execution_count": null,
   "metadata": {
    "id": "hE20ZBrjqJkY"
   },
   "outputs": [],
   "source": [
    "train_iterator, valid_iterator, test_iterator = data.BucketIterator.splits(\n",
    "    (train, val, test),\n",
    "    batch_size = 64,\n",
    "    sort_key=lambda x: len(x.text), \n",
    "    device=device\n",
    ")"
   ]
  }
 ],
 "metadata": {
  "colab": {
   "collapsed_sections": [],
   "name": "03-01e.ipynb",
   "provenance": []
  },
  "kernelspec": {
   "display_name": "Python 3",
   "name": "python3"
  },
  "language_info": {
   "name": "python"
  }
 },
 "nbformat": 4,
 "nbformat_minor": 0
}
