{
 "cells": [
  {
   "cell_type": "code",
   "execution_count": null,
   "metadata": {
    "id": "i15z88bnrmdf"
   },
   "outputs": [],
   "source": [
    "import torch\n",
    "import torch.nn as nn\n",
    "import torch.nn.functional as F"
   ]
  },
  {
   "cell_type": "code",
   "execution_count": null,
   "metadata": {
    "id": "q5yhCXD5rwg_"
   },
   "outputs": [],
   "source": [
    "class CNN(nn.Module):\n",
    "  def __init__(self, vocabulary_size, embedding_size, \n",
    "               kernels_number, kernel_sizes, output_size, dropout_rate):\n",
    "    super().__init__()\n",
    "    self.embedding = nn.Embedding(vocabulary_size, embedding_size)\n",
    "    self.convolution_layers = nn.ModuleList([nn.Conv2d(in_channels=1, out_channels=kernels_number, kernel_size=(k, embedding_size)) \n",
    "                                            for k in kernel_sizes])\n",
    "    self.dropout = nn.Dropout(dropout_rate)\n",
    "    self.fully_connected = nn.Linear(len(kernel_sizes) * kernels_number, output_size)\n",
    "  def forward(self, text):\n",
    "    text = text.permute(1, 0)\n",
    "    input_embeddings = self.embedding(text)\n",
    "    input_embeddings = input_embeddings.unsqueeze(1)\n",
    "    conved = [F.relu(convolution_layer(input_embeddings)).squeeze(3) for convolution_layer in self.convolution_layers]\n",
    "    pooled = [F.max_pool1d(conv, conv.shape[2]).squeeze(2) for conv in conved]\n",
    "    concat = self.dropout(torch.cat(pooled, dim=1))\n",
    "    final_output = self.fully_connected(concat)\n",
    "    return final_output"
   ]
  },
  {
   "cell_type": "code",
   "execution_count": null,
   "metadata": {
    "id": "DY7mZ1-Sr0lY"
   },
   "outputs": [],
   "source": [
    "vocabulary_size = 2679\n",
    "embedding_size = 100\n",
    "kernels_number = 100\n",
    "kernel_sizes = [2, 3, 4]\n",
    "output_size = 6\n",
    "dropout_rate = 0.3"
   ]
  },
  {
   "cell_type": "code",
   "execution_count": null,
   "metadata": {
    "id": "_ShWcpxBr6Ax"
   },
   "outputs": [],
   "source": [
    "model = CNN(vocabulary_size, embedding_size, kernels_number, kernel_sizes, output_size, dropout_rate)"
   ]
  },
  {
   "cell_type": "code",
   "execution_count": null,
   "metadata": {
    "colab": {
     "base_uri": "https://localhost:8080/"
    },
    "executionInfo": {
     "elapsed": 3,
     "status": "ok",
     "timestamp": 1645082165741,
     "user": {
      "displayName": "Zhongyu Pan",
      "photoUrl": "https://lh3.googleusercontent.com/a-/AOh14GgmO8eVgFGOq4F8rXKQmTQzAq_EsO4w3y7XEU5F7w=s64",
      "userId": "00060245009473894752"
     },
     "user_tz": 480
    },
    "id": "Q2kqgIVesHjO",
    "outputId": "2a6e675c-e43d-40b6-c26e-b34a39e9459e"
   },
   "outputs": [
    {
     "name": "stdout",
     "output_type": "stream",
     "text": [
      "CNN(\n",
      "  (embedding): Embedding(2679, 100)\n",
      "  (convolution_layers): ModuleList(\n",
      "    (0): Conv2d(1, 100, kernel_size=(2, 100), stride=(1, 1))\n",
      "    (1): Conv2d(1, 100, kernel_size=(3, 100), stride=(1, 1))\n",
      "    (2): Conv2d(1, 100, kernel_size=(4, 100), stride=(1, 1))\n",
      "  )\n",
      "  (dropout): Dropout(p=0.3, inplace=False)\n",
      "  (fully_connected): Linear(in_features=300, out_features=6, bias=True)\n",
      ")\n"
     ]
    }
   ],
   "source": [
    "print(model)"
   ]
  },
  {
   "cell_type": "code",
   "execution_count": null,
   "metadata": {
    "colab": {
     "base_uri": "https://localhost:8080/"
    },
    "executionInfo": {
     "elapsed": 5,
     "status": "ok",
     "timestamp": 1645082166313,
     "user": {
      "displayName": "Zhongyu Pan",
      "photoUrl": "https://lh3.googleusercontent.com/a-/AOh14GgmO8eVgFGOq4F8rXKQmTQzAq_EsO4w3y7XEU5F7w=s64",
      "userId": "00060245009473894752"
     },
     "user_tz": 480
    },
    "id": "wBQYrj8esHld",
    "outputId": "7b1cf7d0-5335-4301-d4ed-2bcb938b5e87"
   },
   "outputs": [
    {
     "data": {
      "text/plain": [
       "CNN(\n",
       "  (embedding): Embedding(2679, 100)\n",
       "  (convolution_layers): ModuleList(\n",
       "    (0): Conv2d(1, 100, kernel_size=(2, 100), stride=(1, 1))\n",
       "    (1): Conv2d(1, 100, kernel_size=(3, 100), stride=(1, 1))\n",
       "    (2): Conv2d(1, 100, kernel_size=(4, 100), stride=(1, 1))\n",
       "  )\n",
       "  (dropout): Dropout(p=0.3, inplace=False)\n",
       "  (fully_connected): Linear(in_features=300, out_features=6, bias=True)\n",
       ")"
      ]
     },
     "execution_count": 7,
     "metadata": {},
     "output_type": "execute_result"
    }
   ],
   "source": [
    "device = torch.device('cuda' if torch.cuda.is_available() else 'cpu')\n",
    "model.to(device)"
   ]
  }
 ],
 "metadata": {
  "colab": {
   "authorship_tag": "ABX9TyPbppWKhZOt7+n302a0E0PX",
   "collapsed_sections": [],
   "name": "03-02e.ipynb",
   "provenance": []
  },
  "kernelspec": {
   "display_name": "Python 3",
   "name": "python3"
  },
  "language_info": {
   "name": "python"
  }
 },
 "nbformat": 4,
 "nbformat_minor": 0
}
