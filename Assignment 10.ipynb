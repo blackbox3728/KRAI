{
 "cells": [
  {
   "cell_type": "markdown",
   "id": "6dd5e8f8",
   "metadata": {},
   "source": [
    "### SVM classification on any dataset"
   ]
  },
  {
   "cell_type": "code",
   "execution_count": 2,
   "id": "84526b9f",
   "metadata": {},
   "outputs": [],
   "source": [
    "import pandas as pd\n",
    "import matplotlib.pyplot as plt\n",
    "%matplotlib inline"
   ]
  },
  {
   "cell_type": "code",
   "execution_count": 3,
   "id": "0d0c667e",
   "metadata": {},
   "outputs": [],
   "source": [
    "df=pd.read_csv('Social_Network_Ads.csv')"
   ]
  },
  {
   "cell_type": "code",
   "execution_count": 4,
   "id": "42fbefd3",
   "metadata": {},
   "outputs": [
    {
     "data": {
      "text/html": [
       "<div>\n",
       "<style scoped>\n",
       "    .dataframe tbody tr th:only-of-type {\n",
       "        vertical-align: middle;\n",
       "    }\n",
       "\n",
       "    .dataframe tbody tr th {\n",
       "        vertical-align: top;\n",
       "    }\n",
       "\n",
       "    .dataframe thead th {\n",
       "        text-align: right;\n",
       "    }\n",
       "</style>\n",
       "<table border=\"1\" class=\"dataframe\">\n",
       "  <thead>\n",
       "    <tr style=\"text-align: right;\">\n",
       "      <th></th>\n",
       "      <th>User ID</th>\n",
       "      <th>Gender</th>\n",
       "      <th>Age</th>\n",
       "      <th>EstimatedSalary</th>\n",
       "      <th>Purchased</th>\n",
       "    </tr>\n",
       "  </thead>\n",
       "  <tbody>\n",
       "    <tr>\n",
       "      <th>0</th>\n",
       "      <td>15624510</td>\n",
       "      <td>Male</td>\n",
       "      <td>19</td>\n",
       "      <td>19000</td>\n",
       "      <td>0</td>\n",
       "    </tr>\n",
       "    <tr>\n",
       "      <th>1</th>\n",
       "      <td>15810944</td>\n",
       "      <td>Male</td>\n",
       "      <td>35</td>\n",
       "      <td>20000</td>\n",
       "      <td>0</td>\n",
       "    </tr>\n",
       "    <tr>\n",
       "      <th>2</th>\n",
       "      <td>15668575</td>\n",
       "      <td>Female</td>\n",
       "      <td>26</td>\n",
       "      <td>43000</td>\n",
       "      <td>0</td>\n",
       "    </tr>\n",
       "    <tr>\n",
       "      <th>3</th>\n",
       "      <td>15603246</td>\n",
       "      <td>Female</td>\n",
       "      <td>27</td>\n",
       "      <td>57000</td>\n",
       "      <td>0</td>\n",
       "    </tr>\n",
       "    <tr>\n",
       "      <th>4</th>\n",
       "      <td>15804002</td>\n",
       "      <td>Male</td>\n",
       "      <td>19</td>\n",
       "      <td>76000</td>\n",
       "      <td>0</td>\n",
       "    </tr>\n",
       "  </tbody>\n",
       "</table>\n",
       "</div>"
      ],
      "text/plain": [
       "    User ID  Gender  Age  EstimatedSalary  Purchased\n",
       "0  15624510    Male   19            19000          0\n",
       "1  15810944    Male   35            20000          0\n",
       "2  15668575  Female   26            43000          0\n",
       "3  15603246  Female   27            57000          0\n",
       "4  15804002    Male   19            76000          0"
      ]
     },
     "execution_count": 4,
     "metadata": {},
     "output_type": "execute_result"
    }
   ],
   "source": [
    "df.head()"
   ]
  },
  {
   "cell_type": "code",
   "execution_count": 5,
   "id": "2e17defb",
   "metadata": {},
   "outputs": [],
   "source": [
    "X=df[['Age','EstimatedSalary']]\n",
    "y=df['Purchased']"
   ]
  },
  {
   "cell_type": "code",
   "execution_count": 6,
   "id": "01eef7d7",
   "metadata": {},
   "outputs": [],
   "source": [
    "from sklearn.model_selection import train_test_split"
   ]
  },
  {
   "cell_type": "code",
   "execution_count": 7,
   "id": "4f350b84",
   "metadata": {},
   "outputs": [],
   "source": [
    "X_train, X_test, y_train, y_test = train_test_split(X, y, test_size=0.23, random_state=91)"
   ]
  },
  {
   "cell_type": "code",
   "execution_count": 8,
   "id": "652e70a8",
   "metadata": {},
   "outputs": [],
   "source": [
    "from sklearn.preprocessing import MinMaxScaler\n",
    "scaler=MinMaxScaler()\n",
    "scaler.fit(X_train)\n",
    "X_train_scaled=scaler.transform(X_train)\n",
    "X_test_scaled=scaler.transform(X_test)"
   ]
  },
  {
   "cell_type": "code",
   "execution_count": 9,
   "id": "431cfda5",
   "metadata": {},
   "outputs": [],
   "source": [
    "from sklearn.svm import SVC"
   ]
  },
  {
   "cell_type": "code",
   "execution_count": 10,
   "id": "18aeb276",
   "metadata": {},
   "outputs": [
    {
     "data": {
      "text/plain": [
       "0.8043478260869565"
      ]
     },
     "execution_count": 10,
     "metadata": {},
     "output_type": "execute_result"
    }
   ],
   "source": [
    "model_lin = SVC(kernel='linear')\n",
    "model_lin.fit(X_train_scaled,y_train)\n",
    "model_lin.score(X_test_scaled,y_test)"
   ]
  },
  {
   "cell_type": "code",
   "execution_count": 11,
   "id": "766ab7bf",
   "metadata": {},
   "outputs": [
    {
     "data": {
      "text/plain": [
       "0.8913043478260869"
      ]
     },
     "execution_count": 11,
     "metadata": {},
     "output_type": "execute_result"
    }
   ],
   "source": [
    "model_poly = SVC(kernel='poly')\n",
    "model_poly.fit(X_train_scaled,y_train)\n",
    "model_poly.score(X_test_scaled,y_test)"
   ]
  },
  {
   "cell_type": "code",
   "execution_count": 12,
   "id": "4b29e698",
   "metadata": {},
   "outputs": [
    {
     "data": {
      "text/plain": [
       "0.8913043478260869"
      ]
     },
     "execution_count": 12,
     "metadata": {},
     "output_type": "execute_result"
    }
   ],
   "source": [
    "model_rbf = SVC(kernel='rbf')\n",
    "model_rbf.fit(X_train_scaled,y_train)\n",
    "model_rbf.score(X_test_scaled,y_test)"
   ]
  },
  {
   "cell_type": "code",
   "execution_count": 13,
   "id": "a8d36ed8",
   "metadata": {},
   "outputs": [
    {
     "data": {
      "text/plain": [
       "<matplotlib.collections.PathCollection at 0x20eb3a4f9d0>"
      ]
     },
     "execution_count": 13,
     "metadata": {},
     "output_type": "execute_result"
    },
    {
     "data": {
      "image/png": "[encoded data removed]",
      "text/plain": [
       "<Figure size 432x288 with 1 Axes>"
      ]
     },
     "metadata": {
      "needs_background": "light"
     },
     "output_type": "display_data"
    }
   ],
   "source": [
    "#Actual data\n",
    "class_0_act = X_test[y_test==0]\n",
    "class_1_act = X_test[y_test==1]\n",
    "plt.scatter(class_0_act['Age'],class_0_act['EstimatedSalary'],c='red')\n",
    "plt.scatter(class_1_act['Age'],class_1_act['EstimatedSalary'],c='blue')"
   ]
  },
  {
   "cell_type": "code",
   "execution_count": 14,
   "id": "b65cda81",
   "metadata": {},
   "outputs": [
    {
     "data": {
      "text/plain": [
       "Text(0.5, 1.0, 'Linear Kernel')"
      ]
     },
     "execution_count": 14,
     "metadata": {},
     "output_type": "execute_result"
    },
    {
     "data": {
      "image/png": "[encoded data removed]",
      "text/plain": [
       "<Figure size 432x288 with 1 Axes>"
      ]
     },
     "metadata": {
      "needs_background": "light"
     },
     "output_type": "display_data"
    }
   ],
   "source": [
    "#Plot points according to predicted values of linear kernel\n",
    "y_pre = model_lin.predict(X_test_scaled)\n",
    "class_0_pre = X_test[y_pre==0]\n",
    "class_1_pre = X_test[y_pre==1]\n",
    "plt.scatter(class_0_pre['Age'],class_0_pre['EstimatedSalary'],c='red')\n",
    "plt.scatter(class_1_pre['Age'],class_1_pre['EstimatedSalary'],c='blue')\n",
    "plt.title('Linear Kernel')"
   ]
  },
  {
   "cell_type": "code",
   "execution_count": 15,
   "id": "9e2a9352",
   "metadata": {},
   "outputs": [
    {
     "data": {
      "text/plain": [
       "Text(0.5, 1.0, 'Polynomial Kernel')"
      ]
     },
     "execution_count": 15,
     "metadata": {},
     "output_type": "execute_result"
    },
    {
     "data": {
      "image/png": "[encoded data removed]",
      "text/plain": [
       "<Figure size 432x288 with 1 Axes>"
      ]
     },
     "metadata": {
      "needs_background": "light"
     },
     "output_type": "display_data"
    }
   ],
   "source": [
    "#Plot points according to predicted values of polynomial kernel\n",
    "y_pre = model_poly.predict(X_test_scaled)\n",
    "class_0_pre = X_test[y_pre==0]\n",
    "class_1_pre = X_test[y_pre==1]\n",
    "plt.scatter(class_0_pre['Age'],class_0_pre['EstimatedSalary'],c='red')\n",
    "plt.scatter(class_1_pre['Age'],class_1_pre['EstimatedSalary'],c='blue')\n",
    "plt.title('Polynomial Kernel')"
   ]
  },
  {
   "cell_type": "code",
   "execution_count": 16,
   "id": "d68354bb",
   "metadata": {},
   "outputs": [
    {
     "data": {
      "text/plain": [
       "Text(0.5, 1.0, 'RBF Kernel')"
      ]
     },
     "execution_count": 16,
     "metadata": {},
     "output_type": "execute_result"
    },
    {
     "data": {
      "image/png": "[encoded data removed]",
      "text/plain": [
       "<Figure size 432x288 with 1 Axes>"
      ]
     },
     "metadata": {
      "needs_background": "light"
     },
     "output_type": "display_data"
    }
   ],
   "source": [
    "#Plot points according to predicted values of rbf kernel\n",
    "y_pre = model_rbf.predict(X_test_scaled)\n",
    "class_0_pre = X_test[y_pre==0]\n",
    "class_1_pre = X_test[y_pre==1]\n",
    "plt.scatter(class_0_pre['Age'],class_0_pre['EstimatedSalary'],c='red')\n",
    "plt.scatter(class_1_pre['Age'],class_1_pre['EstimatedSalary'],c='blue')\n",
    "plt.title('RBF Kernel')"
   ]
  },
  {
   "cell_type": "code",
   "execution_count": 17,
   "id": "3941b6b9",
   "metadata": {},
   "outputs": [],
   "source": [
    "import numpy as np"
   ]
  },
  {
   "cell_type": "code",
   "execution_count": 18,
   "id": "2f2d8c9d",
   "metadata": {},
   "outputs": [],
   "source": [
    "plot_data = []\n",
    "for x in range(0,100,1):\n",
    "    for y in range(0,100,1):\n",
    "        plot_data.append([x,y])\n",
    "plot_data=np.array(plot_data)/100"
   ]
  },
  {
   "cell_type": "code",
   "execution_count": 19,
   "id": "4fdb7396",
   "metadata": {},
   "outputs": [
    {
     "data": {
      "text/plain": [
       "array([[0.  , 0.  ],\n",
       "       [0.  , 0.01],\n",
       "       [0.  , 0.02],\n",
       "       ...,\n",
       "       [0.99, 0.97],\n",
       "       [0.99, 0.98],\n",
       "       [0.99, 0.99]])"
      ]
     },
     "execution_count": 19,
     "metadata": {},
     "output_type": "execute_result"
    }
   ],
   "source": [
    "plot_data"
   ]
  },
  {
   "cell_type": "code",
   "execution_count": 20,
   "id": "99890cd9",
   "metadata": {},
   "outputs": [
    {
     "data": {
      "text/plain": [
       "(10000, 2)"
      ]
     },
     "execution_count": 20,
     "metadata": {},
     "output_type": "execute_result"
    }
   ],
   "source": [
    "plot_data.shape"
   ]
  },
  {
   "cell_type": "code",
   "execution_count": 21,
   "id": "cfaaec79",
   "metadata": {},
   "outputs": [
    {
     "data": {
      "text/plain": [
       "Text(0.5, 1.0, 'Linear Kernel')"
      ]
     },
     "execution_count": 21,
     "metadata": {},
     "output_type": "execute_result"
    },
    {
     "data": {
      "image/png": "[encoded data removed]",
      "text/plain": [
       "<Figure size 432x288 with 1 Axes>"
      ]
     },
     "metadata": {
      "needs_background": "light"
     },
     "output_type": "display_data"
    }
   ],
   "source": [
    "y_plot = model_lin.predict(plot_data)\n",
    "class_0 = plot_data[y_plot==0]\n",
    "class_1 = plot_data[y_plot==1]\n",
    "plt.scatter(class_0[:,0],class_0[:,1],c='red')\n",
    "plt.scatter(class_1[:,0],class_1[:,1],c='blue')\n",
    "plt.title('Linear Kernel')"
   ]
  },
  {
   "cell_type": "code",
   "execution_count": 22,
   "id": "fee2770d",
   "metadata": {},
   "outputs": [
    {
     "data": {
      "text/plain": [
       "Text(0.5, 1.0, 'Poly Kernel')"
      ]
     },
     "execution_count": 22,
     "metadata": {},
     "output_type": "execute_result"
    },
    {
     "data": {
      "image/png": "[encoded data removed]",
      "text/plain": [
       "<Figure size 432x288 with 1 Axes>"
      ]
     },
     "metadata": {
      "needs_background": "light"
     },
     "output_type": "display_data"
    }
   ],
   "source": [
    "y_plot = model_poly.predict(plot_data)\n",
    "class_0 = plot_data[y_plot==0]\n",
    "class_1 = plot_data[y_plot==1]\n",
    "plt.scatter(class_0[:,0],class_0[:,1],c='red')\n",
    "plt.scatter(class_1[:,0],class_1[:,1],c='blue')\n",
    "plt.title('Poly Kernel')"
   ]
  },
  {
   "cell_type": "code",
   "execution_count": 23,
   "id": "63b0a458",
   "metadata": {},
   "outputs": [
    {
     "data": {
      "text/plain": [
       "Text(0.5, 1.0, 'rbf Kernel')"
      ]
     },
     "execution_count": 23,
     "metadata": {},
     "output_type": "execute_result"
    },
    {
     "data": {
      "image/png": "[encoded data removed]",
      "text/plain": [
       "<Figure size 432x288 with 1 Axes>"
      ]
     },
     "metadata": {
      "needs_background": "light"
     },
     "output_type": "display_data"
    }
   ],
   "source": [
    "y_plot = model_rbf.predict(plot_data)\n",
    "class_0 = plot_data[y_plot==0]\n",
    "class_1 = plot_data[y_plot==1]\n",
    "plt.scatter(class_0[:,0],class_0[:,1],c='red')\n",
    "plt.scatter(class_1[:,0],class_1[:,1],c='blue')\n",
    "plt.title('rbf Kernel')"
   ]
  },
  {
   "cell_type": "code",
   "execution_count": 24,
   "id": "e38e2bf5",
   "metadata": {},
   "outputs": [],
   "source": [
    "pts = np.array([[25,60000],[50,120000]])\n",
    "pts_scaled = scaler.transform(pts)"
   ]
  },
  {
   "cell_type": "code",
   "execution_count": 25,
   "id": "eee24438",
   "metadata": {},
   "outputs": [
    {
     "data": {
      "text/plain": [
       "array([[0.16666667, 0.33333333],\n",
       "       [0.76190476, 0.77777778]])"
      ]
     },
     "execution_count": 25,
     "metadata": {},
     "output_type": "execute_result"
    }
   ],
   "source": [
    "pts_scaled"
   ]
  },
  {
   "cell_type": "code",
   "execution_count": 26,
   "id": "7670ce9b",
   "metadata": {},
   "outputs": [
    {
     "data": {
      "text/plain": [
       "array([0, 1], dtype=int64)"
      ]
     },
     "execution_count": 26,
     "metadata": {},
     "output_type": "execute_result"
    }
   ],
   "source": [
    "y = model_rbf.predict(pts_scaled)\n",
    "y"
   ]
  },
  {
   "cell_type": "code",
   "execution_count": null,
   "id": "2f95745a",
   "metadata": {},
   "outputs": [],
   "source": []
  }
 ],
 "metadata": {
  "kernelspec": {
   "display_name": "Python 3",
   "language": "python",
   "name": "python3"
  },
  "language_info": {
   "codemirror_mode": {
    "name": "ipython",
    "version": 3
   },
   "file_extension": ".py",
   "mimetype": "text/x-python",
   "name": "python",
   "nbconvert_exporter": "python",
   "pygments_lexer": "ipython3",
   "version": "3.8.5"
  }
 },
 "nbformat": 4,
 "nbformat_minor": 5
}
