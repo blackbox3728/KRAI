{
 "cells": [
  {
   "cell_type": "markdown",
   "id": "a6217e12",
   "metadata": {},
   "source": [
    "### Bayesian Classification on any dataset"
   ]
  },
  {
   "cell_type": "code",
   "execution_count": 1,
   "id": "df2584d3",
   "metadata": {},
   "outputs": [],
   "source": [
    "import numpy as np\n",
    "import pandas as pd\n",
    "import matplotlib.pyplot as plt"
   ]
  },
  {
   "cell_type": "code",
   "execution_count": 2,
   "id": "cfbb0a72",
   "metadata": {},
   "outputs": [],
   "source": [
    "df=pd.read_csv('iris.csv')"
   ]
  },
  {
   "cell_type": "code",
   "execution_count": 4,
   "id": "d03ccf69",
   "metadata": {},
   "outputs": [],
   "source": [
    "df.columns=['sepal_length','sepal_width','petal_length','petal_width','species']"
   ]
  },
  {
   "cell_type": "code",
   "execution_count": 5,
   "id": "3713e7ba",
   "metadata": {},
   "outputs": [],
   "source": [
    "col_names=list(df.columns)\n",
    "predictors=col_names[0:4]\n",
    "target=col_names[4]"
   ]
  },
  {
   "cell_type": "code",
   "execution_count": 7,
   "id": "a49d4d35",
   "metadata": {},
   "outputs": [],
   "source": [
    "from sklearn.model_selection import train_test_split\n",
    "train,test=train_test_split(df,test_size=0.3,random_state=0)"
   ]
  },
  {
   "cell_type": "markdown",
   "id": "aa86804e",
   "metadata": {},
   "source": [
    "###### Gaussian Naive Bayes"
   ]
  },
  {
   "cell_type": "code",
   "execution_count": 8,
   "id": "9d7a9efb",
   "metadata": {},
   "outputs": [],
   "source": [
    "from sklearn.naive_bayes import GaussianNB\n",
    "Gmodel=GaussianNB()\n",
    "Gmodel.fit(train[predictors],train[target])\n",
    "train_Gpred=Gmodel.predict(train[predictors])\n",
    "test_Gpred=Gmodel.predict(test[predictors])\n"
   ]
  },
  {
   "cell_type": "code",
   "execution_count": 9,
   "id": "6ec70555",
   "metadata": {},
   "outputs": [],
   "source": [
    "train_acc_gau=np.mean(train_Gpred==train[target])\n",
    "test_acc_gau=np.mean(test_Gpred==test[target])"
   ]
  },
  {
   "cell_type": "code",
   "execution_count": 11,
   "id": "e2dc828b",
   "metadata": {},
   "outputs": [
    {
     "data": {
      "text/plain": [
       "0.9428571428571428"
      ]
     },
     "execution_count": 11,
     "metadata": {},
     "output_type": "execute_result"
    }
   ],
   "source": [
    "train_acc_gau\n"
   ]
  },
  {
   "cell_type": "code",
   "execution_count": 12,
   "id": "525b3d8b",
   "metadata": {},
   "outputs": [
    {
     "data": {
      "text/plain": [
       "1.0"
      ]
     },
     "execution_count": 12,
     "metadata": {},
     "output_type": "execute_result"
    }
   ],
   "source": [
    "test_acc_gau"
   ]
  },
  {
   "cell_type": "markdown",
   "id": "9d4f72f9",
   "metadata": {},
   "source": [
    "###### Multinomial Naive Bayes"
   ]
  },
  {
   "cell_type": "code",
   "execution_count": 13,
   "id": "e1b85466",
   "metadata": {},
   "outputs": [],
   "source": [
    "from sklearn.naive_bayes import MultinomialNB\n",
    "Mmodel=MultinomialNB()\n",
    "Mmodel.fit(train[predictors],train[target])\n",
    "train_Mpred=Mmodel.predict(train[predictors])\n",
    "test_Mpred=Mmodel.predict(test[predictors])"
   ]
  },
  {
   "cell_type": "code",
   "execution_count": 14,
   "id": "ddeb2e0a",
   "metadata": {},
   "outputs": [],
   "source": [
    "train_acc_multi=np.mean(train_Mpred==train[target])\n",
    "test_acc_multi=np.mean(test_Mpred==test[target])"
   ]
  },
  {
   "cell_type": "code",
   "execution_count": 15,
   "id": "97b6d50a",
   "metadata": {},
   "outputs": [
    {
     "data": {
      "text/plain": [
       "0.7047619047619048"
      ]
     },
     "execution_count": 15,
     "metadata": {},
     "output_type": "execute_result"
    }
   ],
   "source": [
    "train_acc_multi"
   ]
  },
  {
   "cell_type": "code",
   "execution_count": 16,
   "id": "1c51eadd",
   "metadata": {},
   "outputs": [
    {
     "data": {
      "text/plain": [
       "0.6"
      ]
     },
     "execution_count": 16,
     "metadata": {},
     "output_type": "execute_result"
    }
   ],
   "source": [
    "test_acc_multi"
   ]
  },
  {
   "cell_type": "code",
   "execution_count": null,
   "id": "d17615c7",
   "metadata": {},
   "outputs": [],
   "source": []
  }
 ],
 "metadata": {
  "kernelspec": {
   "display_name": "Python 3",
   "language": "python",
   "name": "python3"
  },
  "language_info": {
   "codemirror_mode": {
    "name": "ipython",
    "version": 3
   },
   "file_extension": ".py",
   "mimetype": "text/x-python",
   "name": "python",
   "nbconvert_exporter": "python",
   "pygments_lexer": "ipython3",
   "version": "3.8.5"
  }
 },
 "nbformat": 4,
 "nbformat_minor": 5
}
