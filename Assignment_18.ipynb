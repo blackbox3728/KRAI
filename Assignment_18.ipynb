{
 "cells": [
  {
   "cell_type": "code",
   "execution_count": 1,
   "metadata": {
    "id": "2CI20s38j4S0"
   },
   "outputs": [],
   "source": [
    "import requests\n",
    "from bs4 import BeautifulSoup\n",
    "import csv\n",
    "   \n",
    "URL = \"http://www.values.com/inspirational-quotes\"\n",
    "r = requests.get(URL)\n",
    "   \n",
    "soup = BeautifulSoup(r.content, 'html5lib')\n",
    "   \n",
    "quotes=[]"
   ]
  },
  {
   "cell_type": "code",
   "execution_count": 2,
   "metadata": {
    "colab": {
     "base_uri": "https://localhost:8080/"
    },
    "id": "rpjbJtudkA84",
    "outputId": "ba08ca56-64de-438b-86a4-bf414cd82d0a"
   },
   "outputs": [
    {
     "data": {
      "text/plain": [
       "<div class=\"row\" id=\"all_quotes\">\n",
       "            <div class=\"col-6 col-lg-3 text-center margin-30px-bottom sm-margin-30px-top\">\n",
       "\n",
       "        <a href=\"/inspirational-quotes/7919-to-persist-with-a-goal-you-must-treasure-the\"><img alt=\"To persist with a goal, you must treasure the dream more than the costs of sacrifice to attain it. #&lt;Author:0x0000562b0e881438&gt;\" class=\"margin-10px-bottom shadow\" height=\"310\" src=\"https://assets.passiton.com/quotes/quote_artwork/7919/medium/20220201_tuesday_quote.jpg?1643401538\" width=\"310\"/></a>\n",
       "        <h5 class=\"value_on_red\"><a href=\"/inspirational-quotes/7919-to-persist-with-a-goal-you-must-treasure-the\">PERSISTENCE</a></h5>\n",
       "\n",
       "</div><div class=\"col-6 col-lg-3 text-center margin-30px-bottom sm-margin-30px-top\">\n",
       "\n",
       "        <a href=\"/inspirational-quotes/8300-failure-cannot-cope-with-persistence\"><img alt=\"Failure cannot cope with persistence. #&lt;Author:0x0000562b0e8b9ce8&gt;\" class=\"margin-10px-bottom shadow\" height=\"310\" src=\"https://assets.passiton.com/quotes/quote_artwork/8300/medium/20220131_monday_quote.jpg?1643401488\" width=\"310\"/></a>\n",
       "        <h5 class=\"value_on_red\"><a href=\"/inspirational-quotes/8300-failure-cannot-cope-with-persistence\">PERSISTENCE</a></h5>\n",
       "\n",
       "</div><div class=\"col-6 col-lg-3 text-center margin-30px-bottom sm-margin-30px-top\">\n",
       "\n",
       "        <a href=\"/inspirational-quotes/8298-though-no-one-can-go-back-and-make-a-brand-new\"><img alt=\"Though no one can go back and make a brand new start, anyone can start from now and make a brand new ending. #&lt;Author:0x0000562b0e8f7d40&gt;\" class=\"margin-10px-bottom shadow\" height=\"310\" src=\"https://assets.passiton.com/quotes/quote_artwork/8298/medium/20210128_friday_quote.jpg?1642807064\" width=\"310\"/></a>\n",
       "        <h5 class=\"value_on_red\"><a href=\"/inspirational-quotes/8298-though-no-one-can-go-back-and-make-a-brand-new\">INSPIRATION</a></h5>\n",
       "\n",
       "</div><div class=\"col-6 col-lg-3 text-center margin-30px-bottom sm-margin-30px-top\">\n",
       "\n",
       "        <a href=\"/inspirational-quotes/8297-a-highly-developed-values-system-is-like-a\"><img alt=\"A highly developed values system is like a compass. It serves as a guide to point you in the right direction when you are lost. #&lt;Author:0x0000562b0e91b4c0&gt;\" class=\"margin-10px-bottom shadow\" height=\"310\" src=\"https://assets.passiton.com/quotes/quote_artwork/8297/medium/20210127_thursday_quote.jpg?1642807024\" width=\"310\"/></a>\n",
       "        <h5 class=\"value_on_red\"><a href=\"/inspirational-quotes/8297-a-highly-developed-values-system-is-like-a\">INSPIRATION</a></h5>\n",
       "\n",
       "</div><div class=\"col-6 col-lg-3 text-center margin-30px-bottom sm-margin-30px-top\">\n",
       "\n",
       "        <a href=\"/inspirational-quotes/7066-just-don-t-give-up-trying-what-you-really-want\"><img alt=\"Just don’t give up trying what you really want to do. Where there is love and inspiration, I don’t think you can go wrong. #&lt;Author:0x0000562b0e94cf98&gt;\" class=\"margin-10px-bottom shadow\" height=\"310\" src=\"https://assets.passiton.com/quotes/quote_artwork/7066/medium/20210126_wednesday_quote.jpg?1642807000\" width=\"310\"/></a>\n",
       "        <h5 class=\"value_on_red\"><a href=\"/inspirational-quotes/7066-just-don-t-give-up-trying-what-you-really-want\">INSPIRATION</a></h5>\n",
       "\n",
       "</div><div class=\"col-6 col-lg-3 text-center margin-30px-bottom sm-margin-30px-top\">\n",
       "\n",
       "        <a href=\"/inspirational-quotes/8296-when-we-strive-to-become-better-than-we-are\"><img alt=\"When we strive to become better than we are, everything around us becomes better, too. #&lt;Author:0x0000562b0e985f00&gt;\" class=\"margin-10px-bottom shadow\" height=\"310\" src=\"https://assets.passiton.com/quotes/quote_artwork/8296/medium/20210125_tuesday_quote.jpg?1642806976\" width=\"310\"/></a>\n",
       "        <h5 class=\"value_on_red\"><a href=\"/inspirational-quotes/8296-when-we-strive-to-become-better-than-we-are\">INSPIRATION</a></h5>\n",
       "\n",
       "</div><div class=\"col-6 col-lg-3 text-center margin-30px-bottom sm-margin-30px-top\">\n",
       "\n",
       "        <a href=\"/inspirational-quotes/8299-the-most-important-thing-is-to-try-and-inspire\"><img alt=\" The most important thing is to try and inspire people so that they can be great in whatever they want to do. #&lt;Author:0x0000562b0e9c0948&gt;\" class=\"margin-10px-bottom shadow\" height=\"310\" src=\"https://assets.passiton.com/quotes/quote_artwork/8299/medium/20210124_monday_quote.jpg?1642807233\" width=\"310\"/></a>\n",
       "        <h5 class=\"value_on_red\"><a href=\"/inspirational-quotes/8299-the-most-important-thing-is-to-try-and-inspire\">INSPIRATION</a></h5>\n",
       "\n",
       "</div><div class=\"col-6 col-lg-3 text-center margin-30px-bottom sm-margin-30px-top\">\n",
       "\n",
       "        <a href=\"/inspirational-quotes/6828-bad-things-do-happen-how-i-respond-to-them\"><img alt=\"Bad things do happen; how I respond to them defines my character and the quality of my life. I can choose to sit in perpetual sadness... or I can choose to rise from the pain and treasure the most precious gift I have—life itself. #&lt;Author:0x0000562b0ea18d78&gt;\" class=\"margin-10px-bottom shadow\" height=\"310\" src=\"https://assets.passiton.com/quotes/quote_artwork/6828/medium/20220121_friday_quote.jpg?1642025489\" width=\"310\"/></a>\n",
       "        <h5 class=\"value_on_red\"><a href=\"/inspirational-quotes/6828-bad-things-do-happen-how-i-respond-to-them\">OVERCOMING</a></h5>\n",
       "\n",
       "</div><div class=\"col-6 col-lg-3 text-center margin-30px-bottom sm-margin-30px-top\">\n",
       "\n",
       "        <a href=\"/inspirational-quotes/8294-show-me-someone-who-has-done-something\"><img alt=\"Show me someone who has done something worthwhile, and I’ll show you someone who has overcome adversity. #&lt;Author:0x0000562b0ea5cfc8&gt;\" class=\"margin-10px-bottom shadow\" height=\"310\" src=\"https://assets.passiton.com/quotes/quote_artwork/8294/medium/20220120_thursday_quote.jpg?1642025461\" width=\"310\"/></a>\n",
       "        <h5 class=\"value_on_red\"><a href=\"/inspirational-quotes/8294-show-me-someone-who-has-done-something\">OVERCOMING</a></h5>\n",
       "\n",
       "</div><div class=\"col-6 col-lg-3 text-center margin-30px-bottom sm-margin-30px-top\">\n",
       "\n",
       "        <a href=\"/inspirational-quotes/6137-its-not-the-load-that-breaks-you-down-its-the\"><img alt=\"It's not the load that breaks you down, it's the way you carry it. #&lt;Author:0x0000562b0ea8f540&gt;\" class=\"margin-10px-bottom shadow\" height=\"310\" src=\"https://assets.passiton.com/quotes/quote_artwork/6137/medium/20220119_wednesday_quote.jpg?1642021501\" width=\"310\"/></a>\n",
       "        <h5 class=\"value_on_red\"><a href=\"/inspirational-quotes/6137-its-not-the-load-that-breaks-you-down-its-the\">OVERCOMING</a></h5>\n",
       "\n",
       "</div><div class=\"col-6 col-lg-3 text-center margin-30px-bottom sm-margin-30px-top\">\n",
       "\n",
       "        <a href=\"/inspirational-quotes/6805-getting-over-a-painful-experience-is-much-like\"><img alt=\"Getting over a painful experience is much like crossing monkey bars. You have to let go at some point in order to move forward. #&lt;Author:0x0000562b0eabede0&gt;\" class=\"margin-10px-bottom shadow\" height=\"310\" src=\"https://assets.passiton.com/quotes/quote_artwork/6805/medium/20220118_tuesday_quote.jpg?1642021466\" width=\"310\"/></a>\n",
       "        <h5 class=\"value_on_red\"><a href=\"/inspirational-quotes/6805-getting-over-a-painful-experience-is-much-like\">OVERCOMING</a></h5>\n",
       "\n",
       "</div><div class=\"col-6 col-lg-3 text-center margin-30px-bottom sm-margin-30px-top\">\n",
       "\n",
       "        <a href=\"/inspirational-quotes/8293-if-you-cant-fly-then-run-if-you-cant-run-then\"><img alt=\"If you can't fly then run, if you can't run then walk, if you can't walk then crawl, but whatever you do you have to keep moving forward. #&lt;Author:0x0000562b0eaec858&gt;\" class=\"margin-10px-bottom shadow\" height=\"310\" src=\"https://assets.passiton.com/quotes/quote_artwork/8293/medium/20220117_monday_quote.jpg?1642021433\" width=\"310\"/></a>\n",
       "        <h5 class=\"value_on_red\"><a href=\"/inspirational-quotes/8293-if-you-cant-fly-then-run-if-you-cant-run-then\">OVERCOMING</a></h5>\n",
       "\n",
       "</div><div class=\"col-6 col-lg-3 text-center margin-30px-bottom sm-margin-30px-top\">\n",
       "\n",
       "        <a href=\"/inspirational-quotes/5577-the-creative-is-the-place-where-no-one-else-has\"><img alt=\"The creative is the place where no one else has ever been. You have to leave the city of your comfort and go into the wilderness of your intuition. #&lt;Author:0x00007ff799452b38&gt;\" class=\"margin-10px-bottom shadow\" height=\"310\" src=\"https://assets.passiton.com/quotes/quote_artwork/5577/medium/20220114_friday_quote.jpg?1641588954\" width=\"310\"/></a>\n",
       "        <h5 class=\"value_on_red\"><a href=\"/inspirational-quotes/5577-the-creative-is-the-place-where-no-one-else-has\">CREATIVITY</a></h5>\n",
       "\n",
       "</div><div class=\"col-6 col-lg-3 text-center margin-30px-bottom sm-margin-30px-top\">\n",
       "\n",
       "        <a href=\"/inspirational-quotes/7345-creativity-is-allowing-yourself-to-make\"><img alt=\"Creativity is allowing yourself to make mistakes. Art is knowing which ones to keep. #&lt;Author:0x00007ff799522db0&gt;\" class=\"margin-10px-bottom shadow\" height=\"310\" src=\"https://assets.passiton.com/quotes/quote_artwork/7345/medium/20220113_thursday_quote.jpg?1641588918\" width=\"310\"/></a>\n",
       "        <h5 class=\"value_on_red\"><a href=\"/inspirational-quotes/7345-creativity-is-allowing-yourself-to-make\">CREATIVITY</a></h5>\n",
       "\n",
       "</div><div class=\"col-6 col-lg-3 text-center margin-30px-bottom sm-margin-30px-top\">\n",
       "\n",
       "        <a href=\"/inspirational-quotes/7487-creativity-requires-the-courage-to-let-go-of\"><img alt=\"Creativity requires the courage to let go of certainties. #&lt;Author:0x00007ff7995483a8&gt;\" class=\"margin-10px-bottom shadow\" height=\"310\" src=\"https://assets.passiton.com/quotes/quote_artwork/7487/medium/20220112_wednesday_quote.jpg?1641588894\" width=\"310\"/></a>\n",
       "        <h5 class=\"value_on_red\"><a href=\"/inspirational-quotes/7487-creativity-requires-the-courage-to-let-go-of\">CREATIVITY</a></h5>\n",
       "\n",
       "</div><div class=\"col-6 col-lg-3 text-center margin-30px-bottom sm-margin-30px-top\">\n",
       "\n",
       "        <a href=\"/inspirational-quotes/8295-i-am-the-me-i-choose-to-be\"><img alt=\"I am the me I choose to be. #&lt;Author:0x00007ff799589a88&gt;\" class=\"margin-10px-bottom shadow\" height=\"310\" src=\"https://assets.passiton.com/quotes/quote_artwork/8295/medium/20220111_tuesday_quote.jpg?1641858930\" width=\"310\"/></a>\n",
       "        <h5 class=\"value_on_red\"><a href=\"/inspirational-quotes/8295-i-am-the-me-i-choose-to-be\">HUMILITY</a></h5>\n",
       "\n",
       "</div><div class=\"col-6 col-lg-3 text-center margin-30px-bottom sm-margin-30px-top\">\n",
       "\n",
       "        <a href=\"/inspirational-quotes/7809-creative-people-do-not-see-things-for-what-they\"><img alt=\"Creative people do not see things for what they are; they see them for what they can be. #&lt;Author:0x00007ff7995a63e0&gt;\" class=\"margin-10px-bottom shadow\" height=\"310\" src=\"https://assets.passiton.com/quotes/quote_artwork/7809/medium/20220110_monday_quote.jpg?1641588841\" width=\"310\"/></a>\n",
       "        <h5 class=\"value_on_red\"><a href=\"/inspirational-quotes/7809-creative-people-do-not-see-things-for-what-they\">CREATIVITY</a></h5>\n",
       "\n",
       "</div><div class=\"col-6 col-lg-3 text-center margin-30px-bottom sm-margin-30px-top\">\n",
       "\n",
       "        <a href=\"/inspirational-quotes/8291-there-was-never-a-night-or-a-problem-that-could\"><img alt=\"There was never a night or a problem that could defeat sunrise or hope. #&lt;Author:0x00007ff7995bde78&gt;\" class=\"margin-10px-bottom shadow\" height=\"310\" src=\"https://assets.passiton.com/quotes/quote_artwork/8291/medium/20220107_friday_quote.jpg?1640117070\" width=\"310\"/></a>\n",
       "        <h5 class=\"value_on_red\"><a href=\"/inspirational-quotes/8291-there-was-never-a-night-or-a-problem-that-could\">HOPE</a></h5>\n",
       "\n",
       "</div><div class=\"col-6 col-lg-3 text-center margin-30px-bottom sm-margin-30px-top\">\n",
       "\n",
       "        <a href=\"/inspirational-quotes/3560-hope-is-a-state-of-mind-not-of-the-world\"><img alt=\"Hope is a state of mind, not of the world. Hope, in this deep and powerful sense, is not the same as joy that things are going well…, but rather an ability to work for something because it is good. #&lt;Author:0x00007ff7995cc9f0&gt;\" class=\"margin-10px-bottom shadow\" height=\"310\" src=\"https://assets.passiton.com/quotes/quote_artwork/3560/medium/20220106_thursday_quote.jpg?1640117035\" width=\"310\"/></a>\n",
       "        <h5 class=\"value_on_red\"><a href=\"/inspirational-quotes/3560-hope-is-a-state-of-mind-not-of-the-world\">HOPE</a></h5>\n",
       "\n",
       "</div><div class=\"col-6 col-lg-3 text-center margin-30px-bottom sm-margin-30px-top\">\n",
       "\n",
       "        <a href=\"/inspirational-quotes/6827-just-as-one-cannot-live-without-dreams-one\"><img alt=\"Just as one cannot live without dreams, one cannot live without hope. If dreams reflect the past, hope summons the future. #&lt;Author:0x00007ff799706be0&gt;\" class=\"margin-10px-bottom shadow\" height=\"310\" src=\"https://assets.passiton.com/quotes/quote_artwork/6827/medium/20220105_wednesday_quote.jpg?1640117008\" width=\"310\"/></a>\n",
       "        <h5 class=\"value_on_red\"><a href=\"/inspirational-quotes/6827-just-as-one-cannot-live-without-dreams-one\">HOPE</a></h5>\n",
       "\n",
       "</div><div class=\"col-6 col-lg-3 text-center margin-30px-bottom sm-margin-30px-top\">\n",
       "\n",
       "        <a href=\"/inspirational-quotes/8290-we-have-always-held-to-the-hope-the-belief\"><img alt=\"We have always held to the hope, the belief, the conviction that there is a better life, a better world, beyond the horizon. #&lt;Author:0x00007ff79971a730&gt;\" class=\"margin-10px-bottom shadow\" height=\"310\" src=\"https://assets.passiton.com/quotes/quote_artwork/8290/medium/20220104_tuesday_quote.jpg?1640116962\" width=\"310\"/></a>\n",
       "        <h5 class=\"value_on_red\"><a href=\"/inspirational-quotes/8290-we-have-always-held-to-the-hope-the-belief\">HOPE</a></h5>\n",
       "\n",
       "</div><div class=\"col-6 col-lg-3 text-center margin-30px-bottom sm-margin-30px-top\">\n",
       "\n",
       "        <a href=\"/inspirational-quotes/7457-hope-smiles-from-the-threshold-of-the-year-to\"><img alt=\"Hope smiles from the threshold of the year to come, whispering 'it will be happier'... #&lt;Author:0x00007ff79973d1b8&gt;\" class=\"margin-10px-bottom shadow\" height=\"310\" src=\"https://assets.passiton.com/quotes/quote_artwork/7457/medium/20220103_monday_quote.jpg?1640116927\" width=\"310\"/></a>\n",
       "        <h5 class=\"value_on_red\"><a href=\"/inspirational-quotes/7457-hope-smiles-from-the-threshold-of-the-year-to\">HOPE</a></h5>\n",
       "\n",
       "</div><div class=\"col-6 col-lg-3 text-center margin-30px-bottom sm-margin-30px-top\">\n",
       "\n",
       "        <a href=\"/inspirational-quotes/4770-what-greater-thing-is-there-for-human-souls\"><img alt=\"What greater thing is there for human souls than to feel that they are joined for life - to be with each other in silent unspeakable memories. #&lt;Author:0x00007ff79975f3f8&gt;\" class=\"margin-10px-bottom shadow\" height=\"310\" src=\"https://assets.passiton.com/quotes/quote_artwork/4770/medium/20211231_friday_quote.jpg?1640016040\" width=\"310\"/></a>\n",
       "        <h5 class=\"value_on_red\"><a href=\"/inspirational-quotes/4770-what-greater-thing-is-there-for-human-souls\">FAMILY</a></h5>\n",
       "\n",
       "</div><div class=\"col-6 col-lg-3 text-center margin-30px-bottom sm-margin-30px-top\">\n",
       "\n",
       "        <a href=\"/inspirational-quotes/8289-it-didn-t-matter-how-big-our-house-was-it\"><img alt=\"It didn’t matter how big our house was; it mattered that there was love in it. #&lt;Author:0x00007ff7997878d0&gt;\" class=\"margin-10px-bottom shadow\" height=\"310\" src=\"https://assets.passiton.com/quotes/quote_artwork/8289/medium/20211230_thursday_quote.jpg?1640016001\" width=\"310\"/></a>\n",
       "        <h5 class=\"value_on_red\"><a href=\"/inspirational-quotes/8289-it-didn-t-matter-how-big-our-house-was-it\">FAMILY</a></h5>\n",
       "\n",
       "</div><div class=\"col-6 col-lg-3 text-center margin-30px-bottom sm-margin-30px-top\">\n",
       "\n",
       "        <a href=\"/inspirational-quotes/7182-the-bond-that-links-your-true-family-is-not-one\"><img alt=\"The bond that links your true family is not one of blood, but of respect and joy in each other's life. Rarely do members of one family grow up under the same roof. #&lt;Author:0x00007ff7997b9a88&gt;\" class=\"margin-10px-bottom shadow\" height=\"310\" src=\"https://assets.passiton.com/quotes/quote_artwork/7182/medium/20211229_wednesday_quote.jpg?1640015962\" width=\"310\"/></a>\n",
       "        <h5 class=\"value_on_red\"><a href=\"/inspirational-quotes/7182-the-bond-that-links-your-true-family-is-not-one\">FAMILY</a></h5>\n",
       "\n",
       "</div><div class=\"col-6 col-lg-3 text-center margin-30px-bottom sm-margin-30px-top\">\n",
       "\n",
       "        <a href=\"/inspirational-quotes/7183-having-somewhere-to-go-is-home-having-someone\"><img alt=\"Having somewhere to go is home, having someone to love is family, having both is blessing. #&lt;Author:0x00007ff7997e91c0&gt;\" class=\"margin-10px-bottom shadow\" height=\"310\" src=\"https://assets.passiton.com/quotes/quote_artwork/7183/medium/20211228_tuesday_quote.jpg?1640015915\" width=\"310\"/></a>\n",
       "        <h5 class=\"value_on_red\"><a href=\"/inspirational-quotes/7183-having-somewhere-to-go-is-home-having-someone\">FAMILY</a></h5>\n",
       "\n",
       "</div><div class=\"col-6 col-lg-3 text-center margin-30px-bottom sm-margin-30px-top\">\n",
       "\n",
       "        <a href=\"/inspirational-quotes/5990-do-your-little-bit-of-good-where-you-are-its\"><img alt=\"Do your little bit of good where you are; its those little bits of good put together that overwhelm the world. #&lt;Author:0x00007ff799832de8&gt;\" class=\"margin-10px-bottom shadow\" height=\"310\" src=\"https://assets.passiton.com/quotes/quote_artwork/5990/medium/20211227_monday_quote.jpg?1640575891\" width=\"310\"/></a>\n",
       "        <h5 class=\"value_on_red\"><a href=\"/inspirational-quotes/5990-do-your-little-bit-of-good-where-you-are-its\">KINDNESS</a></h5>\n",
       "\n",
       "</div><div class=\"col-6 col-lg-3 text-center margin-30px-bottom sm-margin-30px-top\">\n",
       "\n",
       "        <a href=\"/inspirational-quotes/6913-this-is-my-wish-for-you-peace-of-mind\"><img alt=\"This is my wish for you: peace of mind, prosperity through the year, happiness that multiplies, health for you and yours, fun around every corner, energy to chase your dreams, joy to fill your holidays! #&lt;Author:0x00007ff799863b28&gt;\" class=\"margin-10px-bottom shadow\" height=\"310\" src=\"https://assets.passiton.com/quotes/quote_artwork/6913/medium/20211224_friday_quote.jpg?1639774097\" width=\"310\"/></a>\n",
       "        <h5 class=\"value_on_red\"><a href=\"/inspirational-quotes/6913-this-is-my-wish-for-you-peace-of-mind\">CHEER</a></h5>\n",
       "\n",
       "</div><div class=\"col-6 col-lg-3 text-center margin-30px-bottom sm-margin-30px-top\">\n",
       "\n",
       "        <a href=\"/inspirational-quotes/8288-laughing-cheerfulness-throws-the-light-of-day\"><img alt=\"Laughing cheerfulness throws the light of day on all the paths of life. #&lt;Author:0x00007ff7998995c0&gt;\" class=\"margin-10px-bottom shadow\" height=\"310\" src=\"https://assets.passiton.com/quotes/quote_artwork/8288/medium/20211223_thursday_quote.jpg?1639774056\" width=\"310\"/></a>\n",
       "        <h5 class=\"value_on_red\"><a href=\"/inspirational-quotes/8288-laughing-cheerfulness-throws-the-light-of-day\">CHEER</a></h5>\n",
       "\n",
       "</div><div class=\"col-6 col-lg-3 text-center margin-30px-bottom sm-margin-30px-top\">\n",
       "\n",
       "        <a href=\"/inspirational-quotes/7847-after-every-storm-the-sun-will-smile-for-every\"><img alt=\"After every storm the sun will smile; for every problem there is a solution, and the soul's indefeasible duty is to be of good cheer. #&lt;Author:0x00007ff7998e44d0&gt;\" class=\"margin-10px-bottom shadow\" height=\"310\" src=\"https://assets.passiton.com/quotes/quote_artwork/7847/medium/20211222_wednesday_quote.jpg?1639774026\" width=\"310\"/></a>\n",
       "        <h5 class=\"value_on_red\"><a href=\"/inspirational-quotes/7847-after-every-storm-the-sun-will-smile-for-every\">CHEER</a></h5>\n",
       "\n",
       "</div><div class=\"col-6 col-lg-3 text-center margin-30px-bottom sm-margin-30px-top\">\n",
       "\n",
       "        <a href=\"/inspirational-quotes/7848-i-say-to-myself-that-i-shall-try-to-make-my\"><img alt=\"I say to myself that I shall try to make my life like an open fireplace, so that people may be warmed and cheered by it and so go out themselves to warm and cheer. #&lt;Author:0x00007ff79992de78&gt;\" class=\"margin-10px-bottom shadow\" height=\"310\" src=\"https://assets.passiton.com/quotes/quote_artwork/7848/medium/20211221_tuesday_quote.jpg?1639773995\" width=\"310\"/></a>\n",
       "        <h5 class=\"value_on_red\"><a href=\"/inspirational-quotes/7848-i-say-to-myself-that-i-shall-try-to-make-my\">CHEER</a></h5>\n",
       "\n",
       "</div><div class=\"col-6 col-lg-3 text-center margin-30px-bottom sm-margin-30px-top\">\n",
       "\n",
       "        <a href=\"/inspirational-quotes/7849-the-unselfish-effort-to-bring-cheer-to-others\"><img alt=\"The unselfish effort to bring cheer to others will be the beginning of a happier life for ourselves. #&lt;Author:0x00007ff7999638c0&gt;\" class=\"margin-10px-bottom shadow\" height=\"310\" src=\"https://assets.passiton.com/quotes/quote_artwork/7849/medium/20211220_monday_quote.jpg?1639773966\" width=\"310\"/></a>\n",
       "        <h5 class=\"value_on_red\"><a href=\"/inspirational-quotes/7849-the-unselfish-effort-to-bring-cheer-to-others\">CHEER</a></h5>\n",
       "\n",
       "</div>\n",
       "        </div>"
      ]
     },
     "execution_count": 2,
     "metadata": {},
     "output_type": "execute_result"
    }
   ],
   "source": [
    "soup.find('div', attrs = {'id':'all_quotes'}) "
   ]
  },
  {
   "cell_type": "code",
   "execution_count": 3,
   "metadata": {
    "id": "fbmb0OpSkNnt"
   },
   "outputs": [],
   "source": [
    "for row in table.find_all_next('div', attrs = {'class': 'col-6 col-lg-3 text-center margin-30px-bottom sm-margin-30px-top'}):\n",
    "    quote = {}\n",
    "    quote['theme'] = row.h5.text\n",
    "    quote['url'] = row.a['href']\n",
    "    quote['img'] = row.img['src']\n",
    "    quote['lines'] = row.img['alt'].split(\" #\")[0]\n",
    "    quote['author'] = row.img['alt'].split(\" #\")[1]\n",
    "    quotes.append(quote)"
   ]
  },
  {
   "cell_type": "code",
   "execution_count": 4,
   "metadata": {
    "id": "NSoskziTkVMW"
   },
   "outputs": [],
   "source": [
    "quote['theme'] = row.h5.text"
   ]
  },
  {
   "cell_type": "code",
   "execution_count": 5,
   "metadata": {
    "id": "g_CjU3n3kXUH"
   },
   "outputs": [],
   "source": [
    "quote['url'] = row.a['href']"
   ]
  },
  {
   "cell_type": "code",
   "execution_count": 6,
   "metadata": {
    "id": "DKhoo6RSka3s"
   },
   "outputs": [],
   "source": [
    "filename = 'inspirational_quotes.csv'\n",
    "with open(filename, 'w', newline='') as f:\n",
    "    w = csv.DictWriter(f,['theme','url','img','lines','author'])\n",
    "    w.writeheader()\n",
    "    for quote in quotes:\n",
    "        w.writerow(quote)"
   ]
  },
  {
   "cell_type": "code",
   "execution_count": null,
   "metadata": {
    "id": "0qK57dw4kqdE"
   },
   "outputs": [],
   "source": [
    ""
   ]
  }
 ],
 "metadata": {
  "colab": {
   "name": "Assignment 18.ipynb",
   "provenance": []
  },
  "kernelspec": {
   "display_name": "Python 3",
   "name": "python3"
  },
  "language_info": {
   "name": "python"
  }
 },
 "nbformat": 4,
 "nbformat_minor": 0
}
