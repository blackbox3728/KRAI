{
 "cells": [
  {
   "cell_type": "code",
   "execution_count": 1,
   "id": "ee5bd597",
   "metadata": {},
   "outputs": [],
   "source": [
    "import pandas as pd\n",
    "import matplotlib.pyplot as plt"
   ]
  },
  {
   "cell_type": "code",
   "execution_count": 2,
   "id": "d8fea8b1",
   "metadata": {},
   "outputs": [],
   "source": [
    "df = pd.read_csv('../../datasets/Social_Network_Ads.csv')"
   ]
  },
  {
   "cell_type": "code",
   "execution_count": 3,
   "id": "2aa68e24",
   "metadata": {},
   "outputs": [
    {
     "data": {
      "text/html": [
       "<div>\n",
       "<style scoped>\n",
       "    .dataframe tbody tr th:only-of-type {\n",
       "        vertical-align: middle;\n",
       "    }\n",
       "\n",
       "    .dataframe tbody tr th {\n",
       "        vertical-align: top;\n",
       "    }\n",
       "\n",
       "    .dataframe thead th {\n",
       "        text-align: right;\n",
       "    }\n",
       "</style>\n",
       "<table border=\"1\" class=\"dataframe\">\n",
       "  <thead>\n",
       "    <tr style=\"text-align: right;\">\n",
       "      <th></th>\n",
       "      <th>Age</th>\n",
       "      <th>EstimatedSalary</th>\n",
       "      <th>Purchased</th>\n",
       "    </tr>\n",
       "  </thead>\n",
       "  <tbody>\n",
       "    <tr>\n",
       "      <th>0</th>\n",
       "      <td>19</td>\n",
       "      <td>19000</td>\n",
       "      <td>0</td>\n",
       "    </tr>\n",
       "    <tr>\n",
       "      <th>1</th>\n",
       "      <td>35</td>\n",
       "      <td>20000</td>\n",
       "      <td>0</td>\n",
       "    </tr>\n",
       "    <tr>\n",
       "      <th>2</th>\n",
       "      <td>26</td>\n",
       "      <td>43000</td>\n",
       "      <td>0</td>\n",
       "    </tr>\n",
       "    <tr>\n",
       "      <th>3</th>\n",
       "      <td>27</td>\n",
       "      <td>57000</td>\n",
       "      <td>0</td>\n",
       "    </tr>\n",
       "    <tr>\n",
       "      <th>4</th>\n",
       "      <td>19</td>\n",
       "      <td>76000</td>\n",
       "      <td>0</td>\n",
       "    </tr>\n",
       "  </tbody>\n",
       "</table>\n",
       "</div>"
      ],
      "text/plain": [
       "   Age  EstimatedSalary  Purchased\n",
       "0   19            19000          0\n",
       "1   35            20000          0\n",
       "2   26            43000          0\n",
       "3   27            57000          0\n",
       "4   19            76000          0"
      ]
     },
     "execution_count": 3,
     "metadata": {},
     "output_type": "execute_result"
    }
   ],
   "source": [
    "df.head()"
   ]
  },
  {
   "cell_type": "code",
   "execution_count": 4,
   "id": "18e45dec",
   "metadata": {},
   "outputs": [],
   "source": [
    "X = df[['Age','EstimatedSalary']]\n",
    "y = df['Purchased']"
   ]
  },
  {
   "cell_type": "code",
   "execution_count": 5,
   "id": "7dcdadc9",
   "metadata": {},
   "outputs": [],
   "source": [
    "from sklearn.model_selection import train_test_split\n",
    "from sklearn.tree import DecisionTreeClassifier"
   ]
  },
  {
   "cell_type": "code",
   "execution_count": 10,
   "id": "4bd0e812",
   "metadata": {},
   "outputs": [],
   "source": [
    "X_train,X_test,y_train,y_test=train_test_split(X,y,test_size=0.25,random_state=67)"
   ]
  },
  {
   "cell_type": "code",
   "execution_count": 26,
   "id": "3287d49d",
   "metadata": {},
   "outputs": [
    {
     "data": {
      "text/plain": [
       "0.82"
      ]
     },
     "execution_count": 26,
     "metadata": {},
     "output_type": "execute_result"
    }
   ],
   "source": [
    "model_overfit = DecisionTreeClassifier()\n",
    "model_overfit.fit(X_train,y_train)\n",
    "model_overfit.score(X_test,y_test)"
   ]
  },
  {
   "cell_type": "code",
   "execution_count": 27,
   "id": "27a1370a",
   "metadata": {},
   "outputs": [
    {
     "data": {
      "text/plain": [
       "0.9966666666666667"
      ]
     },
     "execution_count": 27,
     "metadata": {},
     "output_type": "execute_result"
    }
   ],
   "source": [
    "model_overfit.score(X_train,y_train)"
   ]
  },
  {
   "cell_type": "code",
   "execution_count": 12,
   "id": "c7ad6366",
   "metadata": {},
   "outputs": [],
   "source": [
    "from sklearn.linear_model import LogisticRegression\n",
    "from sklearn.neighbors import KNeighborsClassifier\n",
    "from sklearn.svm import SVC\n",
    "from sklearn.preprocessing import MinMaxScaler"
   ]
  },
  {
   "cell_type": "code",
   "execution_count": 13,
   "id": "fd8e6f8f",
   "metadata": {},
   "outputs": [],
   "source": [
    "scaler  = MinMaxScaler()\n",
    "scaler.fit(X_train)\n",
    "X_train_scaled = scaler.transform(X_train)\n",
    "X_test_scaled = scaler.transform(X_test)"
   ]
  },
  {
   "cell_type": "code",
   "execution_count": 23,
   "id": "4b1d7366",
   "metadata": {},
   "outputs": [],
   "source": [
    "models = {'LogisticReg':LogisticRegression(),'KNN_classifier':KNeighborsClassifier(),\n",
    "          'SVM_lin':SVC(kernel='linear'),'SVM_poly':SVC(kernel='poly'),'SVM_rbf':SVC(kernel='rbf')}"
   ]
  },
  {
   "cell_type": "code",
   "execution_count": 24,
   "id": "515ad5ad",
   "metadata": {},
   "outputs": [
    {
     "name": "stdout",
     "output_type": "stream",
     "text": [
      "LogisticReg \t 0.82 0.77\n",
      "KNN_classifier \t 0.91 0.9\n",
      "SVM_lin \t 0.84 0.77\n",
      "SVM_poly \t 0.9 0.91\n",
      "SVM_rbf \t 0.91 0.9\n"
     ]
    }
   ],
   "source": [
    "for name,model in models.items():\n",
    "    model.fit(X_train_scaled,y_train)\n",
    "    print(name,'\\t',round(model.score(X_train_scaled,y_train),2),model.score(X_test_scaled,y_test))"
   ]
  },
  {
   "cell_type": "code",
   "execution_count": 28,
   "id": "748c771b",
   "metadata": {},
   "outputs": [
    {
     "data": {
      "text/plain": [
       "(0.9, 0.92)"
      ]
     },
     "execution_count": 28,
     "metadata": {},
     "output_type": "execute_result"
    }
   ],
   "source": [
    "model_reg = DecisionTreeClassifier(min_samples_leaf=3, max_depth=3)\n",
    "model_reg.fit(X_train,y_train)\n",
    "model_reg.score(X_train,y_train), model.score(X_test,y_test)"
   ]
  },
  {
   "cell_type": "code",
   "execution_count": 29,
   "id": "4859e00f",
   "metadata": {},
   "outputs": [],
   "source": [
    "# Plotting Decision boundary"
   ]
  },
  {
   "cell_type": "code",
   "execution_count": 30,
   "id": "98618158",
   "metadata": {},
   "outputs": [],
   "source": [
    "min_age, min_sal = X_train['Age'].min(), X_train['EstimatedSalary'].min()\n",
    "max_age, max_sal = X_train['Age'].max(), X_train['EstimatedSalary'].max()"
   ]
  },
  {
   "cell_type": "code",
   "execution_count": 32,
   "id": "37da9b88",
   "metadata": {},
   "outputs": [],
   "source": [
    "import numpy as np"
   ]
  },
  {
   "cell_type": "code",
   "execution_count": 34,
   "id": "504b0ace",
   "metadata": {},
   "outputs": [],
   "source": [
    "ages = np.linspace(min_age,max_age,100)\n",
    "sals = np.linspace(min_sal,max_sal,100)"
   ]
  },
  {
   "cell_type": "code",
   "execution_count": 36,
   "id": "4bdee1d7",
   "metadata": {},
   "outputs": [
    {
     "data": {
      "text/plain": [
       "(10000, 2)"
      ]
     },
     "execution_count": 36,
     "metadata": {},
     "output_type": "execute_result"
    }
   ],
   "source": [
    "data = []\n",
    "for age in ages:\n",
    "    for sal in sals:\n",
    "        data.append([age,sal])\n",
    "data = np.array(data)\n",
    "data.shape"
   ]
  },
  {
   "cell_type": "code",
   "execution_count": 43,
   "id": "ae204dbc",
   "metadata": {},
   "outputs": [
    {
     "data": {
      "text/plain": [
       "<matplotlib.collections.PathCollection at 0x21622e1fb50>"
      ]
     },
     "execution_count": 43,
     "metadata": {},
     "output_type": "execute_result"
    },
    {
     "data": {
      "image/png": "[encoded data removed]",
      "text/plain": [
       "<Figure size 432x288 with 1 Axes>"
      ]
     },
     "metadata": {
      "needs_background": "light"
     },
     "output_type": "display_data"
    }
   ],
   "source": [
    "y_p = model_overfit.predict(data)\n",
    "class_0 = data[y_p==0]\n",
    "class_1 = data[y_p==1]\n",
    "plt.scatter(class_0[:,0], class_0[:,1], c='red', alpha=0.1)\n",
    "plt.scatter(class_1[:,0], class_1[:,1], c='blue', alpha=0.1)\n",
    "\n",
    "class_0 = X_train[y_train==0]\n",
    "class_1 = X_train[y_train==1]\n",
    "plt.scatter(class_0['Age'], class_0['EstimatedSalary'], c='red', alpha=.4)\n",
    "plt.scatter(class_1['Age'], class_1['EstimatedSalary'], c='blue',alpha=0.4)"
   ]
  },
  {
   "cell_type": "code",
   "execution_count": 38,
   "id": "4455f6bd",
   "metadata": {},
   "outputs": [
    {
     "data": {
      "text/plain": [
       "<matplotlib.collections.PathCollection at 0x21623b11f10>"
      ]
     },
     "execution_count": 38,
     "metadata": {},
     "output_type": "execute_result"
    },
    {
     "data": {
      "image/png": "[encoded data removed]",
      "text/plain": [
       "<Figure size 432x288 with 1 Axes>"
      ]
     },
     "metadata": {
      "needs_background": "light"
     },
     "output_type": "display_data"
    }
   ],
   "source": [
    "y_p = model_reg.predict(data)\n",
    "class_0 = data[y_p==0]\n",
    "class_1 = data[y_p==1]\n",
    "plt.scatter(class_0[:,0], class_0[:,1], c='red')\n",
    "plt.scatter(class_1[:,0], class_1[:,1], c='blue')"
   ]
  },
  {
   "cell_type": "code",
   "execution_count": null,
   "id": "fd5e3b2b",
   "metadata": {},
   "outputs": [],
   "source": []
  }
 ],
 "metadata": {
  "kernelspec": {
   "display_name": "Python 3",
   "language": "python",
   "name": "python3"
  },
  "language_info": {
   "codemirror_mode": {
    "name": "ipython",
    "version": 3
   },
   "file_extension": ".py",
   "mimetype": "text/x-python",
   "name": "python",
   "nbconvert_exporter": "python",
   "pygments_lexer": "ipython3",
   "version": "3.8.8"
  }
 },
 "nbformat": 4,
 "nbformat_minor": 5
}
