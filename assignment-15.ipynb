{
 "cells": [
  {
   "cell_type": "code",
   "execution_count": 25,
   "metadata": {
    "execution": {
     "iopub.execute_input": "2022-02-01T10:19:22.221422Z",
     "iopub.status.busy": "2022-02-01T10:19:22.220947Z",
     "iopub.status.idle": "2022-02-01T10:19:33.577991Z",
     "shell.execute_reply": "2022-02-01T10:19:33.576927Z",
     "shell.execute_reply.started": "2022-02-01T10:19:22.221389Z"
    }
   },
   "outputs": [],
   "source": [
    "# This Python 3 environment comes with many helpful analytics libraries installed\n",
    "# It is defined by the kaggle/python Docker image: https://github.com/kaggle/docker-python\n",
    "# For example, here's several helpful packages to load\n",
    "\n",
    "import numpy as np # linear algebra\n",
    "import pandas as pd # data processing, CSV file I/O (e.g. pd.read_csv)\n",
    "\n",
    "# Input data files are available in the read-only \"../input/\" directory\n",
    "# For example, running this (by clicking run or pressing Shift+Enter) will list all files under the input directory\n",
    "\n",
    "import os\n",
    "for dirname, _, filenames in os.walk('/kaggle/input'):\n",
    "    for filename in filenames:\n",
    "        print(os.path.join(dirname, filename))\n",
    "\n",
    "# You can write up to 20GB to the current directory (/kaggle/working/) that gets preserved as output when you create a version using \"Save & Run All\" \n",
    "# You can also write temporary files to /kaggle/temp/, but they won't be saved outside of the current session"
   ]
  },
  {
   "cell_type": "code",
   "execution_count": 26,
   "metadata": {
    "execution": {
     "iopub.execute_input": "2022-02-01T10:19:33.580463Z",
     "iopub.status.busy": "2022-02-01T10:19:33.579949Z",
     "iopub.status.idle": "2022-02-01T10:19:33.585620Z",
     "shell.execute_reply": "2022-02-01T10:19:33.584418Z",
     "shell.execute_reply.started": "2022-02-01T10:19:33.580402Z"
    }
   },
   "outputs": [],
   "source": [
    "##Link for dataset: https://www.kaggle.com/biaiscience/dogs-vs-cats"
   ]
  },
  {
   "cell_type": "code",
   "execution_count": 27,
   "metadata": {
    "execution": {
     "iopub.execute_input": "2022-02-01T10:19:33.588587Z",
     "iopub.status.busy": "2022-02-01T10:19:33.588047Z",
     "iopub.status.idle": "2022-02-01T10:19:33.602343Z",
     "shell.execute_reply": "2022-02-01T10:19:33.600987Z",
     "shell.execute_reply.started": "2022-02-01T10:19:33.588545Z"
    }
   },
   "outputs": [],
   "source": [
    "os.listdir('/kaggle/input/dogs-vs-cats/')"
   ]
  },
  {
   "cell_type": "code",
   "execution_count": 28,
   "metadata": {
    "execution": {
     "iopub.execute_input": "2022-02-01T10:19:33.604910Z",
     "iopub.status.busy": "2022-02-01T10:19:33.604437Z",
     "iopub.status.idle": "2022-02-01T10:19:33.622625Z",
     "shell.execute_reply": "2022-02-01T10:19:33.621526Z",
     "shell.execute_reply.started": "2022-02-01T10:19:33.604868Z"
    }
   },
   "outputs": [],
   "source": [
    "filenames=os.listdir('../input/dogs-vs-cats/train/train')"
   ]
  },
  {
   "cell_type": "code",
   "execution_count": 29,
   "metadata": {
    "execution": {
     "iopub.execute_input": "2022-02-01T10:19:33.624752Z",
     "iopub.status.busy": "2022-02-01T10:19:33.624269Z",
     "iopub.status.idle": "2022-02-01T10:19:33.632179Z",
     "shell.execute_reply": "2022-02-01T10:19:33.630726Z",
     "shell.execute_reply.started": "2022-02-01T10:19:33.624710Z"
    }
   },
   "outputs": [],
   "source": [
    "len(filenames)"
   ]
  },
  {
   "cell_type": "code",
   "execution_count": 30,
   "metadata": {
    "execution": {
     "iopub.execute_input": "2022-02-01T10:19:33.635150Z",
     "iopub.status.busy": "2022-02-01T10:19:33.634225Z",
     "iopub.status.idle": "2022-02-01T10:19:33.645452Z",
     "shell.execute_reply": "2022-02-01T10:19:33.644164Z",
     "shell.execute_reply.started": "2022-02-01T10:19:33.635080Z"
    }
   },
   "outputs": [],
   "source": [
    "filenames[:5]"
   ]
  },
  {
   "cell_type": "code",
   "execution_count": 31,
   "metadata": {
    "execution": {
     "iopub.execute_input": "2022-02-01T10:19:33.649229Z",
     "iopub.status.busy": "2022-02-01T10:19:33.648436Z",
     "iopub.status.idle": "2022-02-01T10:19:33.667775Z",
     "shell.execute_reply": "2022-02-01T10:19:33.666444Z",
     "shell.execute_reply.started": "2022-02-01T10:19:33.649167Z"
    }
   },
   "outputs": [],
   "source": [
    "df=pd.DataFrame({'filename':filenames})\n",
    "df.head()"
   ]
  },
  {
   "cell_type": "code",
   "execution_count": 32,
   "metadata": {
    "execution": {
     "iopub.execute_input": "2022-02-01T10:19:33.673110Z",
     "iopub.status.busy": "2022-02-01T10:19:33.672642Z",
     "iopub.status.idle": "2022-02-01T10:19:33.689842Z",
     "shell.execute_reply": "2022-02-01T10:19:33.688778Z",
     "shell.execute_reply.started": "2022-02-01T10:19:33.673047Z"
    }
   },
   "outputs": [],
   "source": [
    "df['class']=df['filename'].apply(lambda X:X[:3])"
   ]
  },
  {
   "cell_type": "code",
   "execution_count": 33,
   "metadata": {
    "execution": {
     "iopub.execute_input": "2022-02-01T10:19:33.692816Z",
     "iopub.status.busy": "2022-02-01T10:19:33.692058Z",
     "iopub.status.idle": "2022-02-01T10:19:33.704866Z",
     "shell.execute_reply": "2022-02-01T10:19:33.703550Z",
     "shell.execute_reply.started": "2022-02-01T10:19:33.692771Z"
    }
   },
   "outputs": [],
   "source": [
    "df.head()"
   ]
  },
  {
   "cell_type": "code",
   "execution_count": 34,
   "metadata": {
    "execution": {
     "iopub.execute_input": "2022-02-01T10:19:33.707972Z",
     "iopub.status.busy": "2022-02-01T10:19:33.706912Z",
     "iopub.status.idle": "2022-02-01T10:19:33.714993Z",
     "shell.execute_reply": "2022-02-01T10:19:33.713880Z",
     "shell.execute_reply.started": "2022-02-01T10:19:33.707812Z"
    }
   },
   "outputs": [],
   "source": [
    "from tensorflow.keras.preprocessing.image import ImageDataGenerator"
   ]
  },
  {
   "cell_type": "code",
   "execution_count": 35,
   "metadata": {
    "execution": {
     "iopub.execute_input": "2022-02-01T10:19:33.717673Z",
     "iopub.status.busy": "2022-02-01T10:19:33.716812Z",
     "iopub.status.idle": "2022-02-01T10:19:33.726814Z",
     "shell.execute_reply": "2022-02-01T10:19:33.725649Z",
     "shell.execute_reply.started": "2022-02-01T10:19:33.717625Z"
    }
   },
   "outputs": [],
   "source": [
    "data_gen=ImageDataGenerator(zoom_range=0.2,shear_range=0.2,horizontal_flip=True,rescale=1/255)"
   ]
  },
  {
   "cell_type": "code",
   "execution_count": 36,
   "metadata": {
    "execution": {
     "iopub.execute_input": "2022-02-01T10:19:33.729706Z",
     "iopub.status.busy": "2022-02-01T10:19:33.728834Z",
     "iopub.status.idle": "2022-02-01T10:19:34.292109Z",
     "shell.execute_reply": "2022-02-01T10:19:34.290863Z",
     "shell.execute_reply.started": "2022-02-01T10:19:33.729659Z"
    }
   },
   "outputs": [],
   "source": [
    "train_data=data_gen.flow_from_dataframe(df,'../input/dogs-vs-cats/train/train',X='filename',y='class',target_size=(224,224))"
   ]
  },
  {
   "cell_type": "code",
   "execution_count": 37,
   "metadata": {
    "execution": {
     "iopub.execute_input": "2022-02-01T10:19:34.294622Z",
     "iopub.status.busy": "2022-02-01T10:19:34.293875Z",
     "iopub.status.idle": "2022-02-01T10:19:34.300951Z",
     "shell.execute_reply": "2022-02-01T10:19:34.299331Z",
     "shell.execute_reply.started": "2022-02-01T10:19:34.294576Z"
    }
   },
   "outputs": [],
   "source": [
    "from tensorflow.keras.models import Sequential\n",
    "from tensorflow.keras.layers import Conv2D,MaxPool2D,Flatten,Dense"
   ]
  },
  {
   "cell_type": "code",
   "execution_count": 38,
   "metadata": {
    "execution": {
     "iopub.execute_input": "2022-02-01T10:19:34.303003Z",
     "iopub.status.busy": "2022-02-01T10:19:34.302546Z",
     "iopub.status.idle": "2022-02-01T10:19:34.402132Z",
     "shell.execute_reply": "2022-02-01T10:19:34.401007Z",
     "shell.execute_reply.started": "2022-02-01T10:19:34.302955Z"
    }
   },
   "outputs": [],
   "source": [
    "model=Sequential()\n",
    "model.add(Conv2D(16,(3,3),activation='relu',input_shape=(224,224,3)))\n",
    "model.add(MaxPool2D())\n",
    "model.add(Conv2D(32,(3,3),activation='relu'))\n",
    "model.add(MaxPool2D())\n",
    "model.add(Conv2D(64,(3,3),activation='relu'))\n",
    "model.add(MaxPool2D())\n",
    "model.add(Conv2D(64,(5,5),activation='relu'))\n",
    "model.add(MaxPool2D())\n",
    "model.add(Conv2D(128,(3,3),activation='relu'))\n",
    "model.add(MaxPool2D())\n",
    "model.add(Flatten())\n",
    "model.add(Dense(2,activation='softmax'))"
   ]
  },
  {
   "cell_type": "code",
   "execution_count": 39,
   "metadata": {
    "execution": {
     "iopub.execute_input": "2022-02-01T10:19:34.404384Z",
     "iopub.status.busy": "2022-02-01T10:19:34.403890Z",
     "iopub.status.idle": "2022-02-01T10:19:34.422618Z",
     "shell.execute_reply": "2022-02-01T10:19:34.421492Z",
     "shell.execute_reply.started": "2022-02-01T10:19:34.404340Z"
    }
   },
   "outputs": [],
   "source": [
    "model.summary()"
   ]
  },
  {
   "cell_type": "code",
   "execution_count": 40,
   "metadata": {
    "execution": {
     "iopub.execute_input": "2022-02-01T10:19:34.424418Z",
     "iopub.status.busy": "2022-02-01T10:19:34.424032Z",
     "iopub.status.idle": "2022-02-01T10:19:34.444061Z",
     "shell.execute_reply": "2022-02-01T10:19:34.442739Z",
     "shell.execute_reply.started": "2022-02-01T10:19:34.424390Z"
    }
   },
   "outputs": [],
   "source": [
    "model.compile(optimizer='adam',loss='categorical_crossentropy',metrics=['accuracy'])"
   ]
  },
  {
   "cell_type": "code",
   "execution_count": 41,
   "metadata": {
    "execution": {
     "iopub.execute_input": "2022-02-01T10:19:34.446191Z",
     "iopub.status.busy": "2022-02-01T10:19:34.445766Z",
     "iopub.status.idle": "2022-02-01T10:46:48.104472Z",
     "shell.execute_reply": "2022-02-01T10:46:48.103156Z",
     "shell.execute_reply.started": "2022-02-01T10:19:34.446149Z"
    }
   },
   "outputs": [],
   "source": [
    "model.fit_generator(train_data,epochs=5)"
   ]
  },
  {
   "cell_type": "code",
   "execution_count": 42,
   "metadata": {
    "execution": {
     "iopub.execute_input": "2022-02-01T10:46:48.106844Z",
     "iopub.status.busy": "2022-02-01T10:46:48.106370Z",
     "iopub.status.idle": "2022-02-01T10:46:48.259176Z",
     "shell.execute_reply": "2022-02-01T10:46:48.258150Z",
     "shell.execute_reply.started": "2022-02-01T10:46:48.106798Z"
    }
   },
   "outputs": [],
   "source": [
    "import cv2\n",
    "def get_class(img_path):\n",
    "    img=cv2.imread(img_path)\n",
    "    img=cv2.resize(img,(224,224))\n",
    "    img=img/255\n",
    "    op=model.predict(img.reshape(1,224,224,3)).argmax()\n",
    "    return 'cat' if op==0 else 'dog'"
   ]
  },
  {
   "cell_type": "code",
   "execution_count": 43,
   "metadata": {
    "execution": {
     "iopub.execute_input": "2022-02-01T10:46:48.262803Z",
     "iopub.status.busy": "2022-02-01T10:46:48.261972Z",
     "iopub.status.idle": "2022-02-01T10:46:48.270902Z",
     "shell.execute_reply": "2022-02-01T10:46:48.269006Z",
     "shell.execute_reply.started": "2022-02-01T10:46:48.262760Z"
    }
   },
   "outputs": [],
   "source": [
    "train_data.class_mode"
   ]
  },
  {
   "cell_type": "code",
   "execution_count": 44,
   "metadata": {
    "execution": {
     "iopub.execute_input": "2022-02-01T10:46:48.273514Z",
     "iopub.status.busy": "2022-02-01T10:46:48.272933Z",
     "iopub.status.idle": "2022-02-01T10:46:48.508264Z",
     "shell.execute_reply": "2022-02-01T10:46:48.507118Z",
     "shell.execute_reply.started": "2022-02-01T10:46:48.273469Z"
    }
   },
   "outputs": [],
   "source": [
    "get_class('../input/dogs-vs-cats/train/train/cat.10002.jpg')"
   ]
  },
  {
   "cell_type": "code",
   "execution_count": null,
   "metadata": {},
   "outputs": [],
   "source": []
  },
  {
   "cell_type": "code",
   "execution_count": null,
   "metadata": {},
   "outputs": [],
   "source": []
  },
  {
   "cell_type": "code",
   "execution_count": null,
   "metadata": {},
   "outputs": [],
   "source": [
    "\n"
   ]
  }
 ],
 "metadata": {
  "kernelspec": {
   "display_name": "Python 3",
   "language": "python",
   "name": "python3"
  },
  "language_info": {
   "codemirror_mode": {
    "name": "ipython",
    "version": 3
   },
   "file_extension": ".py",
   "mimetype": "text/x-python",
   "name": "python",
   "nbconvert_exporter": "python",
   "pygments_lexer": "ipython3",
   "version": "3.7.10"
  }
 },
 "nbformat": 4,
 "nbformat_minor": 4
}
