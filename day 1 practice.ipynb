{
 "cells": [
  {
   "cell_type": "markdown",
   "id": "89f412db",
   "metadata": {},
   "source": [
    "## python keyword and identifier"
   ]
  },
  {
   "cell_type": "code",
   "execution_count": 9,
   "id": "4fe00e5e",
   "metadata": {},
   "outputs": [
    {
     "name": "stdout",
     "output_type": "stream",
     "text": [
      "['False', 'None', 'True', '__peg_parser__', 'and', 'as', 'assert', 'async', 'await', 'break', 'class', 'continue', 'def', 'del', 'elif', 'else', 'except', 'finally', 'for', 'from', 'global', 'if', 'import', 'in', 'is', 'lambda', 'nonlocal', 'not', 'or', 'pass', 'raise', 'return', 'try', 'while', 'with', 'yield']\n"
     ]
    }
   ],
   "source": [
    "import keyword\n",
    "list_l=keyword.kwlist\n",
    "print(list_l)\n"
   ]
  },
  {
   "cell_type": "code",
   "execution_count": 5,
   "id": "e788da9c",
   "metadata": {},
   "outputs": [
    {
     "data": {
      "text/plain": [
       "36"
      ]
     },
     "execution_count": 5,
     "metadata": {},
     "output_type": "execute_result"
    }
   ],
   "source": [
    "len(list_l)"
   ]
  },
  {
   "cell_type": "markdown",
   "id": "52d2c177",
   "metadata": {},
   "source": [
    "## string \n",
    "\n"
   ]
  },
  {
   "cell_type": "code",
   "execution_count": 3,
   "id": "2e09623e",
   "metadata": {},
   "outputs": [],
   "source": [
    "s_1='welcome to python'"
   ]
  },
  {
   "cell_type": "code",
   "execution_count": 4,
   "id": "35aafadc",
   "metadata": {},
   "outputs": [
    {
     "name": "stdout",
     "output_type": "stream",
     "text": [
      "welcome to python\n"
     ]
    }
   ],
   "source": [
    "print(s_1)"
   ]
  },
  {
   "cell_type": "code",
   "execution_count": 5,
   "id": "a07ed1a1",
   "metadata": {},
   "outputs": [
    {
     "data": {
      "text/plain": [
       "17"
      ]
     },
     "execution_count": 5,
     "metadata": {},
     "output_type": "execute_result"
    }
   ],
   "source": [
    "len(s_1)"
   ]
  },
  {
   "cell_type": "code",
   "execution_count": 23,
   "id": "e5d094e0",
   "metadata": {},
   "outputs": [
    {
     "data": {
      "text/plain": [
       "'nohtyp ot emoclew'"
      ]
     },
     "execution_count": 23,
     "metadata": {},
     "output_type": "execute_result"
    }
   ],
   "source": [
    "s_1[::-1]"
   ]
  },
  {
   "cell_type": "code",
   "execution_count": 18,
   "id": "9d5f5874",
   "metadata": {},
   "outputs": [
    {
     "data": {
      "text/plain": [
       "'wceoyo'"
      ]
     },
     "execution_count": 18,
     "metadata": {},
     "output_type": "execute_result"
    }
   ],
   "source": [
    "s_1[0:17:3]"
   ]
  },
  {
   "cell_type": "code",
   "execution_count": 28,
   "id": "392c85bd",
   "metadata": {},
   "outputs": [],
   "source": [
    "s=\"i learning python\""
   ]
  },
  {
   "cell_type": "code",
   "execution_count": 29,
   "id": "ea12ec5d",
   "metadata": {},
   "outputs": [
    {
     "data": {
      "text/plain": [
       "17"
      ]
     },
     "execution_count": 29,
     "metadata": {},
     "output_type": "execute_result"
    }
   ],
   "source": [
    "len(s)"
   ]
  },
  {
   "cell_type": "code",
   "execution_count": 30,
   "id": "9479049b",
   "metadata": {},
   "outputs": [
    {
     "data": {
      "text/plain": [
       "'i learning python'"
      ]
     },
     "execution_count": 30,
     "metadata": {},
     "output_type": "execute_result"
    }
   ],
   "source": [
    "s[:]"
   ]
  },
  {
   "cell_type": "code",
   "execution_count": 31,
   "id": "99b70e01",
   "metadata": {},
   "outputs": [
    {
     "data": {
      "text/plain": [
       "'i learning python'"
      ]
     },
     "execution_count": 31,
     "metadata": {},
     "output_type": "execute_result"
    }
   ],
   "source": [
    "s[::]"
   ]
  },
  {
   "cell_type": "code",
   "execution_count": 32,
   "id": "3e684434",
   "metadata": {},
   "outputs": [
    {
     "data": {
      "text/plain": [
       "'i learning pytho'"
      ]
     },
     "execution_count": 32,
     "metadata": {},
     "output_type": "execute_result"
    }
   ],
   "source": [
    "s[:-1]"
   ]
  },
  {
   "cell_type": "code",
   "execution_count": 33,
   "id": "44bb4a9d",
   "metadata": {},
   "outputs": [
    {
     "data": {
      "text/plain": [
       "'nohtyp gninrael i'"
      ]
     },
     "execution_count": 33,
     "metadata": {},
     "output_type": "execute_result"
    }
   ],
   "source": [
    "s[::-1]"
   ]
  },
  {
   "cell_type": "code",
   "execution_count": 34,
   "id": "79a569f0",
   "metadata": {},
   "outputs": [
    {
     "data": {
      "text/plain": [
       "'lear'"
      ]
     },
     "execution_count": 34,
     "metadata": {},
     "output_type": "execute_result"
    }
   ],
   "source": [
    "s[2:6]"
   ]
  },
  {
   "cell_type": "code",
   "execution_count": 35,
   "id": "7a7d0c07",
   "metadata": {},
   "outputs": [
    {
     "data": {
      "text/plain": [
       "'ilann yhn'"
      ]
     },
     "execution_count": 35,
     "metadata": {},
     "output_type": "execute_result"
    }
   ],
   "source": [
    "s[0:17:2]"
   ]
  },
  {
   "cell_type": "code",
   "execution_count": 38,
   "id": "c4413d7d",
   "metadata": {},
   "outputs": [
    {
     "ename": "NameError",
     "evalue": "name 'libreries' is not defined",
     "output_type": "error",
     "traceback": [
      "\u001b[1;31m---------------------------------------------------------------------------\u001b[0m",
      "\u001b[1;31mNameError\u001b[0m                                 Traceback (most recent call last)",
      "Input \u001b[1;32mIn [38]\u001b[0m, in \u001b[0;36m<cell line: 1>\u001b[1;34m()\u001b[0m\n\u001b[1;32m----> 1\u001b[0m help(\u001b[43mlibreries\u001b[49m)\n",
      "\u001b[1;31mNameError\u001b[0m: name 'libreries' is not defined"
     ]
    }
   ],
   "source": []
  },
  {
   "cell_type": "code",
   "execution_count": null,
   "id": "2788afdb",
   "metadata": {},
   "outputs": [],
   "source": []
  }
 ],
 "metadata": {
  "kernelspec": {
   "display_name": "Python 3 (ipykernel)",
   "language": "python",
   "name": "python3"
  },
  "language_info": {
   "codemirror_mode": {
    "name": "ipython",
    "version": 3
   },
   "file_extension": ".py",
   "mimetype": "text/x-python",
   "name": "python",
   "nbconvert_exporter": "python",
   "pygments_lexer": "ipython3",
   "version": "3.9.12"
  }
 },
 "nbformat": 4,
 "nbformat_minor": 5
}
